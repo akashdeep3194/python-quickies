{
 "cells": [
  {
   "cell_type": "code",
   "execution_count": 3,
   "id": "paperback-rebel",
   "metadata": {},
   "outputs": [],
   "source": [
    "import sqlite3\n",
    "db = sqlite3.connect('Employee.sqlite')\n",
    "cur = db.cursor()"
   ]
  },
  {
   "cell_type": "code",
   "execution_count": 44,
   "id": "banned-distance",
   "metadata": {},
   "outputs": [
    {
     "ename": "OperationalError",
     "evalue": "table EmployeeDetail already exists",
     "output_type": "error",
     "traceback": [
      "\u001b[1;31m---------------------------------------------------------------------------\u001b[0m",
      "\u001b[1;31mOperationalError\u001b[0m                          Traceback (most recent call last)",
      "\u001b[1;32m<ipython-input-44-8662367d02cf>\u001b[0m in \u001b[0;36m<module>\u001b[1;34m\u001b[0m\n\u001b[1;32m----> 1\u001b[1;33m \u001b[0mcur\u001b[0m\u001b[1;33m.\u001b[0m\u001b[0mexecute\u001b[0m\u001b[1;33m(\u001b[0m\u001b[1;34m'create Table EmployeeDetail(employeeid int Primary Key, name varchar(100), age int, department varchar(100), salary float)'\u001b[0m\u001b[1;33m)\u001b[0m\u001b[1;33m\u001b[0m\u001b[1;33m\u001b[0m\u001b[0m\n\u001b[0m",
      "\u001b[1;31mOperationalError\u001b[0m: table EmployeeDetail already exists"
     ]
    }
   ],
   "source": [
    "cur.execute('create Table EmployeeDetail(employeeid int Primary Key, name varchar(100), age int, department varchar(100), salary float)')"
   ]
  },
  {
   "cell_type": "code",
   "execution_count": null,
   "id": "governmental-retrieval",
   "metadata": {},
   "outputs": [],
   "source": []
  },
  {
   "cell_type": "code",
   "execution_count": 16,
   "id": "conscious-cathedral",
   "metadata": {},
   "outputs": [
    {
     "data": {
      "text/plain": [
       "<sqlite3.Cursor at 0x20e5f5623b0>"
      ]
     },
     "execution_count": 16,
     "metadata": {},
     "output_type": "execute_result"
    }
   ],
   "source": [
    "cur.execute('pragma  table_info(EmployeeDetail)')"
   ]
  },
  {
   "cell_type": "code",
   "execution_count": 21,
   "id": "independent-frontier",
   "metadata": {},
   "outputs": [
    {
     "ename": "IntegrityError",
     "evalue": "UNIQUE constraint failed: EmployeeDetail.employeeid",
     "output_type": "error",
     "traceback": [
      "\u001b[1;31m---------------------------------------------------------------------------\u001b[0m",
      "\u001b[1;31mIntegrityError\u001b[0m                            Traceback (most recent call last)",
      "\u001b[1;32m<ipython-input-21-363c6460eac1>\u001b[0m in \u001b[0;36m<module>\u001b[1;34m\u001b[0m\n\u001b[1;32m----> 1\u001b[1;33m \u001b[0mcur\u001b[0m\u001b[1;33m.\u001b[0m\u001b[0mexecute\u001b[0m\u001b[1;33m(\u001b[0m\u001b[1;34m'insert into EMployeedetail values(100,\"Rishav\",25,\"Marketing\",50000)'\u001b[0m\u001b[1;33m)\u001b[0m\u001b[1;33m\u001b[0m\u001b[1;33m\u001b[0m\u001b[0m\n\u001b[0m",
      "\u001b[1;31mIntegrityError\u001b[0m: UNIQUE constraint failed: EmployeeDetail.employeeid"
     ]
    }
   ],
   "source": [
    "cur.execute('insert into EMployeedetail values(100,\"Rishav\",25,\"Marketing\",50000)')"
   ]
  },
  {
   "cell_type": "code",
   "execution_count": 23,
   "id": "confused-portuguese",
   "metadata": {},
   "outputs": [
    {
     "data": {
      "text/plain": [
       "<sqlite3.Cursor at 0x20e5f5623b0>"
      ]
     },
     "execution_count": 23,
     "metadata": {},
     "output_type": "execute_result"
    }
   ],
   "source": [
    "cur.execute('insert into EMployeedetail values (101,\"Abhishek\",26,\"Operations\",60000),(102,\"Aman\",24,\"Human Resource\",75000)')"
   ]
  },
  {
   "cell_type": "code",
   "execution_count": 26,
   "id": "improving-proposal",
   "metadata": {},
   "outputs": [
    {
     "name": "stdout",
     "output_type": "stream",
     "text": [
      "<sqlite3.Cursor object at 0x0000020E5F5623B0>\n"
     ]
    }
   ],
   "source": [
    "print(cur.execute('select * from Employeedetail'))"
   ]
  },
  {
   "cell_type": "code",
   "execution_count": 28,
   "id": "acknowledged-sister",
   "metadata": {},
   "outputs": [
    {
     "data": {
      "text/plain": [
       "[]"
      ]
     },
     "execution_count": 28,
     "metadata": {},
     "output_type": "execute_result"
    }
   ],
   "source": [
    "cur.fetchall()"
   ]
  },
  {
   "cell_type": "code",
   "execution_count": 43,
   "id": "needed-covering",
   "metadata": {},
   "outputs": [],
   "source": [
    "db.commit()"
   ]
  },
  {
   "cell_type": "code",
   "execution_count": 37,
   "id": "rental-tiger",
   "metadata": {},
   "outputs": [
    {
     "data": {
      "text/plain": [
       "<sqlite3.Cursor at 0x20e5f5623b0>"
      ]
     },
     "execution_count": 37,
     "metadata": {},
     "output_type": "execute_result"
    }
   ],
   "source": [
    "eid = 102\n",
    "cur.execute('delete from employeedetail where employeeid = ?',(eid,))"
   ]
  },
  {
   "cell_type": "code",
   "execution_count": 45,
   "id": "stone-reference",
   "metadata": {},
   "outputs": [
    {
     "name": "stdout",
     "output_type": "stream",
     "text": [
      "[(101, 'Aadarsh', 25, 'Marketing', 50000), (102, 'Aarti', 27, 'Operations', 60000), (103, 'Siddharth', 25, 'Finance', 85000), (104, 'Aman', 24, 'Human Resource', 75000), (105, 'Amit', 30, 'Marketing', 50000), (106, 'Shivansh', 26, 'IT', 90000), (107, 'Vaibhav', 23, 'Finance', 85000), (108, 'Himanshu', 26, 'IT', 90000), (109, 'Raman', 25, 'Operations', 60000), (110, 'Kunal', 26, 'Marketing', 50000), (111, 'Adhira', 29, 'Human Resource', 75000), (112, 'Tanya', 24, 'Marketing', 50000)]\n"
     ]
    },
    {
     "ename": "IntegrityError",
     "evalue": "UNIQUE constraint failed: EmployeeDetail.employeeid",
     "output_type": "error",
     "traceback": [
      "\u001b[1;31m---------------------------------------------------------------------------\u001b[0m",
      "\u001b[1;31mIntegrityError\u001b[0m                            Traceback (most recent call last)",
      "\u001b[1;32m<ipython-input-45-69f57a830803>\u001b[0m in \u001b[0;36m<module>\u001b[1;34m\u001b[0m\n\u001b[0;32m      8\u001b[0m \u001b[0mllist\u001b[0m \u001b[1;33m=\u001b[0m \u001b[1;33m[\u001b[0m\u001b[1;33m(\u001b[0m\u001b[0memployee_id\u001b[0m\u001b[1;33m[\u001b[0m\u001b[0mi\u001b[0m\u001b[1;33m]\u001b[0m\u001b[1;33m,\u001b[0m\u001b[0mname\u001b[0m\u001b[1;33m[\u001b[0m\u001b[0mi\u001b[0m\u001b[1;33m]\u001b[0m\u001b[1;33m,\u001b[0m\u001b[0mage\u001b[0m\u001b[1;33m[\u001b[0m\u001b[0mi\u001b[0m\u001b[1;33m]\u001b[0m\u001b[1;33m,\u001b[0m\u001b[0mdepartment\u001b[0m\u001b[1;33m[\u001b[0m\u001b[0mi\u001b[0m\u001b[1;33m]\u001b[0m\u001b[1;33m,\u001b[0m\u001b[0msalary\u001b[0m\u001b[1;33m[\u001b[0m\u001b[0mi\u001b[0m\u001b[1;33m]\u001b[0m\u001b[1;33m)\u001b[0m \u001b[1;32mfor\u001b[0m \u001b[0mi\u001b[0m \u001b[1;32min\u001b[0m \u001b[0mrange\u001b[0m\u001b[1;33m(\u001b[0m\u001b[0mlen\u001b[0m\u001b[1;33m(\u001b[0m\u001b[0memployee_id\u001b[0m\u001b[1;33m)\u001b[0m\u001b[1;33m)\u001b[0m\u001b[1;33m]\u001b[0m\u001b[1;33m\u001b[0m\u001b[1;33m\u001b[0m\u001b[0m\n\u001b[0;32m      9\u001b[0m \u001b[0mprint\u001b[0m\u001b[1;33m(\u001b[0m\u001b[0mllist\u001b[0m\u001b[1;33m)\u001b[0m\u001b[1;33m\u001b[0m\u001b[1;33m\u001b[0m\u001b[0m\n\u001b[1;32m---> 10\u001b[1;33m \u001b[0mcur\u001b[0m\u001b[1;33m.\u001b[0m\u001b[0mexecutemany\u001b[0m\u001b[1;33m(\u001b[0m\u001b[1;34m'insert into employeedetail values(?,?,?,?,?)'\u001b[0m\u001b[1;33m,\u001b[0m \u001b[0mllist\u001b[0m\u001b[1;33m)\u001b[0m\u001b[1;33m\u001b[0m\u001b[1;33m\u001b[0m\u001b[0m\n\u001b[0m",
      "\u001b[1;31mIntegrityError\u001b[0m: UNIQUE constraint failed: EmployeeDetail.employeeid"
     ]
    }
   ],
   "source": [
    "## Open and read data file as specified in the question\n",
    "## Print the required output in given format\n",
    "employee_id=[101,102,103,104,105,106,107,108,109,110,111,112]\n",
    "name=['Aadarsh','Aarti','Siddharth','Aman','Amit','Shivansh','Vaibhav','Himanshu','Raman','Kunal','Adhira','Tanya']\n",
    "age=[25,27,25,24,30,26,23,26,25,26,29,24]\n",
    "department=['Marketing','Operations','Finance','Human Resource','Marketing','IT','Finance','IT','Operations','Marketing','Human Resource','Marketing']\n",
    "salary=[50000,60000,85000,75000,50000,90000,85000,90000,60000,50000,75000,50000]\n",
    "llist = [(employee_id[i],name[i],age[i],department[i],salary[i]) for i in range(len(employee_id))]\n",
    "print(llist)\n",
    "cur.executemany('insert into employeedetail values(?,?,?,?,?)', llist)"
   ]
  },
  {
   "cell_type": "code",
   "execution_count": 50,
   "id": "allied-defeat",
   "metadata": {},
   "outputs": [
    {
     "name": "stdout",
     "output_type": "stream",
     "text": [
      "103\n",
      "107\n"
     ]
    }
   ],
   "source": [
    "## Open and read data file as specified in the question\n",
    "## Print the required output in given format\n",
    "res = cur.execute('Select employeeid from employeeDetail where department = \"Finance\"')\n",
    "for ele in res:\n",
    "    print(ele[0])"
   ]
  }
 ],
 "metadata": {
  "kernelspec": {
   "display_name": "Python 3",
   "language": "python",
   "name": "python3"
  },
  "language_info": {
   "codemirror_mode": {
    "name": "ipython",
    "version": 3
   },
   "file_extension": ".py",
   "mimetype": "text/x-python",
   "name": "python",
   "nbconvert_exporter": "python",
   "pygments_lexer": "ipython3",
   "version": "3.9.2"
  }
 },
 "nbformat": 4,
 "nbformat_minor": 5
}
