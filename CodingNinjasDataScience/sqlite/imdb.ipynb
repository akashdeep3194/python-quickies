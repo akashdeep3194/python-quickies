{
 "cells": [
  {
   "cell_type": "code",
   "execution_count": 17,
   "id": "essential-revelation",
   "metadata": {},
   "outputs": [
    {
     "name": "stdout",
     "output_type": "stream",
     "text": [
      "Short Term 12 (2013)\n"
     ]
    }
   ],
   "source": [
    "\n",
    "import pandas as pd\n",
    "import numpy as np\n",
    "import sqlite3\n",
    "db = sqlite3.connect('IMDB.sqlite')\n",
    "cur = db.cursor()\n",
    "df_imdb = pd.read_sql_query('select * from IMDB',db)\n",
    "df_genre = pd.read_sql_query('select * from genre',db)\n",
    "df_earning = pd.read_sql_query('select * from earning',db)\n",
    "\n",
    "res = pd.merge(df_earning,df_imdb, left_on=\"Movie_id\", right_on=\"Movie_id\").iloc[:,:8]\n",
    "res = res[res[\"Budget\"] != \"\"]\n",
    "res[\"Budget\"] = res[\"Budget\"].astype(\"float64\")\n",
    "\n",
    "ind = res[\"Budget\"].idxmin()\n",
    "val = res[\"Budget\"].min()\n",
    "\n",
    "res = res[res[\"Budget\"] == val]\n",
    "\n",
    "res[\"Profit\"] = res[\"Domestic\"] + res[\"Worldwide\"] - res[\"Budget\"]\n",
    "res[\"Profit\"].astype(\"float64\")\n",
    "\n",
    "print(res.loc[res[\"Profit\"].idxmax(),\"Title\"])\n"
   ]
  },
  {
   "cell_type": "markdown",
   "id": "interstate-waterproof",
   "metadata": {},
   "source": [
    "-------------------------------------------------------------------------"
   ]
  },
  {
   "cell_type": "code",
   "execution_count": 20,
   "id": "reflected-municipality",
   "metadata": {},
   "outputs": [
    {
     "name": "stdout",
     "output_type": "stream",
     "text": [
      "Index(['Movie_id', 'Domestic', 'Worldwide'], dtype='object')\n",
      "Index(['Movie_id', 'genre'], dtype='object')\n",
      "Index(['Movie_id', 'Title', 'Rating', 'TotalVotes', 'MetaCritic', 'Budget',\n",
      "       'Runtime', 'CVotes10', 'CVotes09', 'CVotes08', 'CVotes07', 'CVotes06',\n",
      "       'CVotes05', 'CVotes04', 'CVotes03', 'CVotes02', 'CVotes01',\n",
      "       'CVotesMale', 'CVotesFemale', 'CVotesU18', 'CVotesU18M', 'CVotesU18F',\n",
      "       'CVotes1829', 'CVotes1829M', 'CVotes1829F', 'CVotes3044', 'CVotes3044M',\n",
      "       'CVotes3044F', 'CVotes45A', 'CVotes45AM', 'CVotes45AF', 'CVotes1000',\n",
      "       'CVotesUS', 'CVotesnUS', 'VotesM', 'VotesF', 'VotesU18', 'VotesU18M',\n",
      "       'VotesU18F', 'Votes1829', 'Votes1829M', 'Votes1829F', 'Votes3044',\n",
      "       'Votes3044M', 'Votes3044F', 'Votes45A', 'Votes45AM', 'Votes45AF',\n",
      "       'VotesIMDB', 'Votes1000', 'VotesUS', 'VotesnUS'],\n",
      "      dtype='object')\n"
     ]
    }
   ],
   "source": [
    "import pandas as pd\n",
    "import numpy as np\n",
    "import sqlite3\n",
    "db = sqlite3.connect('IMDB.sqlite')\n",
    "cur = db.cursor()\n",
    "df_imdb = pd.read_sql_query('select * from IMDB',db)\n",
    "df_genre = pd.read_sql_query('select * from genre',db)\n",
    "df_earning = pd.read_sql_query('select * from earning',db)\n",
    "\n",
    "print(df_earning.columns,df_genre.columns,df_imdb.columns,sep = \"\\n\")"
   ]
  },
  {
   "cell_type": "code",
   "execution_count": 57,
   "id": "combined-folks",
   "metadata": {},
   "outputs": [
    {
     "name": "stdout",
     "output_type": "stream",
     "text": [
      "2010 Toy Story 3 (2010)\n",
      "2011 Rise of the Planet of the Apes (2011)\n",
      "2012 The Avengers (2012)\n",
      "2013 The Hunger Games: Catching Fire (2013)\n",
      "2014 Guardians of the Galaxy (2014)\n",
      "2015 Star Wars: The Force Awakens (2015)\n",
      "2016 Rogue One (2016)\n"
     ]
    }
   ],
   "source": [
    "# print(df_earning.head(),df_genre.head(),df_imdb.head(),sep = \"\\n\")\n",
    "df_temp1 = df_imdb.loc[:,[\"Movie_id\",\"Title\"]]\n",
    "df_temp2 = df_earning\n",
    "\n",
    "# print(df_temp2.dtypes)\n",
    "\n",
    "df_temp2.loc[df_temp2[\"Domestic\"] == '', \"Domestic\"] = 0\n",
    "df_temp2.loc[df_temp2[\"Worldwide\"] == '', \"Worldwide\"] = 0\n",
    "\n",
    "df_temp2[\"Total\"] = df_temp2[\"Domestic\"] + df_temp2[\"Worldwide\"]\n",
    "df_temp2 = df_temp2.loc[:,[\"Movie_id\",\"Total\"]]\n",
    "\n",
    "res = pd.merge(df_temp1,df_temp2,left_on = \"Movie_id\", right_on = \"Movie_id\")\n",
    "res[\"Year\"] = res[\"Title\"].str[-5:-1]\n",
    "res[\"Year\"] = res[\"Year\"].astype(\"int32\")\n",
    "\n",
    "res = res.loc[res.groupby(\"Year\")[\"Total\"].idxmax(),[\"Year\",\"Title\"]]\n",
    "yr = res[\"Year\"]\n",
    "title = res[\"Title\"]\n",
    "\n",
    "i = 0\n",
    "\n",
    "for ele in yr:\n",
    "    print(ele, title.iloc[i])\n",
    "    i+=1\n",
    "\n",
    "# print(res.head())\n"
   ]
  },
  {
   "cell_type": "markdown",
   "id": "short-documentary",
   "metadata": {},
   "source": [
    "---------------"
   ]
  },
  {
   "cell_type": "code",
   "execution_count": 133,
   "id": "brown-patrol",
   "metadata": {},
   "outputs": [
    {
     "name": "stdout",
     "output_type": "stream",
     "text": [
      "Index(['Movie_id', 'Domestic', 'Worldwide'], dtype='object')\n",
      "Index(['Movie_id', 'genre'], dtype='object')\n",
      "Index(['Movie_id', 'Title', 'Rating', 'TotalVotes', 'MetaCritic', 'Budget',\n",
      "       'Runtime', 'CVotes10', 'CVotes09', 'CVotes08', 'CVotes07', 'CVotes06',\n",
      "       'CVotes05', 'CVotes04', 'CVotes03', 'CVotes02', 'CVotes01',\n",
      "       'CVotesMale', 'CVotesFemale', 'CVotesU18', 'CVotesU18M', 'CVotesU18F',\n",
      "       'CVotes1829', 'CVotes1829M', 'CVotes1829F', 'CVotes3044', 'CVotes3044M',\n",
      "       'CVotes3044F', 'CVotes45A', 'CVotes45AM', 'CVotes45AF', 'CVotes1000',\n",
      "       'CVotesUS', 'CVotesnUS', 'VotesM', 'VotesF', 'VotesU18', 'VotesU18M',\n",
      "       'VotesU18F', 'Votes1829', 'Votes1829M', 'Votes1829F', 'Votes3044',\n",
      "       'Votes3044M', 'Votes3044F', 'Votes45A', 'Votes45AM', 'Votes45AF',\n",
      "       'VotesIMDB', 'Votes1000', 'VotesUS', 'VotesnUS'],\n",
      "      dtype='object')\n"
     ]
    }
   ],
   "source": [
    "import pandas as pd\n",
    "import numpy as np\n",
    "import sqlite3\n",
    "import matplotlib.pyplot as plt\n",
    "\n",
    "db = sqlite3.connect('IMDB.sqlite')\n",
    "cur = db.cursor()\n",
    "df_imdb = pd.read_sql_query('select * from IMDB',db)\n",
    "df_genre = pd.read_sql_query('select * from genre',db)\n",
    "df_earning = pd.read_sql_query('select * from earning',db)\n",
    "\n",
    "print(df_earning.columns,df_genre.columns,df_imdb.columns,sep = \"\\n\")"
   ]
  },
  {
   "cell_type": "code",
   "execution_count": 222,
   "id": "leading-pizza",
   "metadata": {},
   "outputs": [
    {
     "name": "stdout",
     "output_type": "stream",
     "text": [
      "Adventure 25.10\n",
      "Action 17.98\n",
      "Drama 10.85\n",
      "Sci-Fi 10.77\n",
      "Animation 7.66\n",
      "Comedy 7.22\n",
      "Fantasy 4.54\n",
      "Thriller 3.99\n",
      "Biography 2.59\n",
      "Mystery 1.95\n",
      "Family 1.91\n",
      "Crime 1.77\n",
      "Romance 1.12\n",
      "History 0.72\n",
      "Western 0.57\n",
      "Sport 0.46\n",
      "War 0.36\n",
      "Musical 0.25\n",
      "Music 0.15\n",
      "Horror 0.03\n"
     ]
    },
    {
     "data": {
      "image/png": "[encoded data removed]",
      "text/plain": [
       "<Figure size 432x288 with 1 Axes>"
      ]
     },
     "metadata": {},
     "output_type": "display_data"
    }
   ],
   "source": [
    "df_temp1 = df_genre\n",
    "df_temp2 = df_imdb.loc[:,[\"Movie_id\",\"Budget\"]]\n",
    "df_temp2.loc[df_temp2[\"Budget\"]==\"\",\"Budget\"] = 0\n",
    "\n",
    "df_temp2.Budget = df_temp2.Budget.astype(\"float64\")\n",
    "\n",
    "df_temp1 = df_temp1[df_temp1[\"genre\"] != '']\n",
    "\n",
    "res = pd.merge(df_temp1,df_temp2,left_on = \"Movie_id\", right_on = \"Movie_id\")\n",
    "res = res.groupby(\"genre\")[\"Budget\"].sum()\n",
    "\n",
    "lab = res.index\n",
    "total = res.sum()\n",
    "\n",
    "p,t,pct = plt.pie(res ,labels = lab, autopct=\"%.2f%%\")\n",
    "plt.axis(\"equal\")\n",
    "\n",
    "res = res.sort_values(ascending=False)\n",
    "for ele in res.index:\n",
    "    print(\"{} {:.2f}\".format(ele,res[ele]*100/total))\n",
    "plt.show()\n"
   ]
  },
  {
   "cell_type": "markdown",
   "id": "indie-slovenia",
   "metadata": {},
   "source": [
    "----"
   ]
  },
  {
   "cell_type": "code",
   "execution_count": 196,
   "id": "material-supervision",
   "metadata": {},
   "outputs": [
    {
     "name": "stdout",
     "output_type": "stream",
     "text": [
      "Index(['Movie_id', 'Domestic', 'Worldwide'], dtype='object')\n",
      "Index(['Movie_id', 'genre'], dtype='object')\n",
      "Index(['Movie_id', 'Title', 'Rating', 'TotalVotes', 'MetaCritic', 'Budget',\n",
      "       'Runtime', 'CVotes10', 'CVotes09', 'CVotes08', 'CVotes07', 'CVotes06',\n",
      "       'CVotes05', 'CVotes04', 'CVotes03', 'CVotes02', 'CVotes01',\n",
      "       'CVotesMale', 'CVotesFemale', 'CVotesU18', 'CVotesU18M', 'CVotesU18F',\n",
      "       'CVotes1829', 'CVotes1829M', 'CVotes1829F', 'CVotes3044', 'CVotes3044M',\n",
      "       'CVotes3044F', 'CVotes45A', 'CVotes45AM', 'CVotes45AF', 'CVotes1000',\n",
      "       'CVotesUS', 'CVotesnUS', 'VotesM', 'VotesF', 'VotesU18', 'VotesU18M',\n",
      "       'VotesU18F', 'Votes1829', 'Votes1829M', 'Votes1829F', 'Votes3044',\n",
      "       'Votes3044M', 'Votes3044F', 'Votes45A', 'Votes45AM', 'Votes45AF',\n",
      "       'VotesIMDB', 'Votes1000', 'VotesUS', 'VotesnUS'],\n",
      "      dtype='object')\n"
     ]
    }
   ],
   "source": [
    "import pandas as pd\n",
    "import numpy as np\n",
    "import sqlite3\n",
    "import matplotlib.pyplot as plt\n",
    "\n",
    "db = sqlite3.connect('IMDB.sqlite')\n",
    "cur = db.cursor()\n",
    "df_imdb = pd.read_sql_query('select * from IMDB',db)\n",
    "df_genre = pd.read_sql_query('select * from genre',db)\n",
    "df_earning = pd.read_sql_query('select * from earning',db)\n",
    "\n",
    "print(df_earning.columns,df_genre.columns,df_imdb.columns,sep = \"\\n\")"
   ]
  },
  {
   "cell_type": "code",
   "execution_count": 223,
   "id": "german-disney",
   "metadata": {},
   "outputs": [
    {
     "name": "stdout",
     "output_type": "stream",
     "text": [
      "Adventure 23.57\n",
      "Action 17.91\n",
      "Drama 11.96\n",
      "Sci-Fi 9.95\n",
      "Comedy 7.69\n",
      "Animation 6.77\n",
      "Fantasy 5.15\n",
      "Thriller 4.42\n",
      "Biography 3.42\n",
      "Mystery 2.01\n",
      "Crime 1.55\n",
      "Romance 1.45\n",
      "Family 1.05\n",
      "History 1.04\n",
      "Western 0.65\n",
      "Music 0.43\n",
      "Musical 0.38\n",
      "Sport 0.32\n",
      "War 0.25\n",
      "Horror 0.01\n"
     ]
    }
   ],
   "source": [
    "df_temp1 = df_genre\n",
    "df_temp2 = df_earning.loc[:,[\"Movie_id\",\"Domestic\",\"Worldwide\"]]\n",
    "\n",
    "df_temp2.loc[df_temp2[\"Domestic\"]==\"\",\"Domestic\"] = 0\n",
    "df_temp2.loc[df_temp2[\"Worldwide\"]==\"\",\"Worldwide\"] = 0\n",
    "\n",
    "df_temp2[\"Total\"] = df_temp2[\"Domestic\"] + df_temp2[\"Worldwide\"]\n",
    "\n",
    "df_temp1 = df_temp1[df_temp1[\"genre\"] != '']\n",
    "\n",
    "res = pd.merge(df_temp1,df_temp2,left_on = \"Movie_id\", right_on = \"Movie_id\")\n",
    "\n",
    "res = res.groupby(\"genre\")[\"Total\"].sum()\n",
    "total = res.sum()\n",
    "s=0\n",
    "res = res.sort_values(ascending = False)\n",
    "for ele in res.index:\n",
    "    print(\"{} {:.2f}\".format(ele,res[ele]*100/total))\n"
   ]
  },
  {
   "cell_type": "markdown",
   "id": "dedicated-apartment",
   "metadata": {},
   "source": [
    "-----"
   ]
  },
  {
   "cell_type": "code",
   "execution_count": 253,
   "id": "accessory-relief",
   "metadata": {},
   "outputs": [
    {
     "name": "stdout",
     "output_type": "stream",
     "text": [
      "Index(['Movie_id', 'Domestic', 'Worldwide'], dtype='object')\n",
      "Index(['Movie_id', 'genre'], dtype='object')\n",
      "Index(['Movie_id', 'Title', 'Rating', 'TotalVotes', 'MetaCritic', 'Budget',\n",
      "       'Runtime', 'CVotes10', 'CVotes09', 'CVotes08', 'CVotes07', 'CVotes06',\n",
      "       'CVotes05', 'CVotes04', 'CVotes03', 'CVotes02', 'CVotes01',\n",
      "       'CVotesMale', 'CVotesFemale', 'CVotesU18', 'CVotesU18M', 'CVotesU18F',\n",
      "       'CVotes1829', 'CVotes1829M', 'CVotes1829F', 'CVotes3044', 'CVotes3044M',\n",
      "       'CVotes3044F', 'CVotes45A', 'CVotes45AM', 'CVotes45AF', 'CVotes1000',\n",
      "       'CVotesUS', 'CVotesnUS', 'VotesM', 'VotesF', 'VotesU18', 'VotesU18M',\n",
      "       'VotesU18F', 'Votes1829', 'Votes1829M', 'Votes1829F', 'Votes3044',\n",
      "       'Votes3044M', 'Votes3044F', 'Votes45A', 'Votes45AM', 'Votes45AF',\n",
      "       'VotesIMDB', 'Votes1000', 'VotesUS', 'VotesnUS'],\n",
      "      dtype='object')\n"
     ]
    }
   ],
   "source": [
    "import pandas as pd\n",
    "import numpy as np\n",
    "import sqlite3\n",
    "import matplotlib.pyplot as plt\n",
    "\n",
    "db = sqlite3.connect('IMDB.sqlite')\n",
    "cur = db.cursor()\n",
    "df_imdb = pd.read_sql_query('select * from IMDB',db)\n",
    "df_genre = pd.read_sql_query('select * from genre',db)\n",
    "df_earning = pd.read_sql_query('select * from earning',db)\n",
    "\n",
    "print(df_earning.columns,df_genre.columns,df_imdb.columns,sep = \"\\n\")"
   ]
  },
  {
   "cell_type": "code",
   "execution_count": null,
   "id": "otherwise-effects",
   "metadata": {},
   "outputs": [],
   "source": []
  },
  {
   "cell_type": "code",
   "execution_count": 259,
   "id": "exceptional-beauty",
   "metadata": {},
   "outputs": [
    {
     "name": "stdout",
     "output_type": "stream",
     "text": [
      "Arrival (2016)\n"
     ]
    }
   ],
   "source": [
    "df_temp1 = df_genre\n",
    "df_temp2 = df_imdb.loc[:,[\"Movie_id\",\"Title\",\"Rating\"]]\n",
    "\n",
    "\n",
    "df_temp1 = df_temp1[(df_temp1[\"genre\"] == \"Mystery\") | (df_temp1[\"genre\"] == \"Sci-Fi\")]\n",
    "\n",
    "df_temp1[\"genre\"].unique()\n",
    "\n",
    "df_new = df_temp1.groupby(\"Movie_id\").count()\n",
    "df_new = df_new[df_new[\"genre\"] == 2]\n",
    "\n",
    "# print(df_new[\"genre\"])\n",
    "\n",
    "df_ans = pd.merge(df_new,df_temp2,left_on=\"Movie_id\", right_on=\"Movie_id\")\n",
    "df_ans = df_ans[df_ans[\"Rating\"]>=8]\n",
    "for ele in df_ans[\"Title\"]:\n",
    "    print(ele)"
   ]
  },
  {
   "cell_type": "markdown",
   "id": "reverse-draft",
   "metadata": {},
   "source": [
    "---"
   ]
  },
  {
   "cell_type": "markdown",
   "id": "applied-parade",
   "metadata": {},
   "source": [
    "---"
   ]
  }
 ],
 "metadata": {
  "kernelspec": {
   "display_name": "Python 3",
   "language": "python",
   "name": "python3"
  },
  "language_info": {
   "codemirror_mode": {
    "name": "ipython",
    "version": 3
   },
   "file_extension": ".py",
   "mimetype": "text/x-python",
   "name": "python",
   "nbconvert_exporter": "python",
   "pygments_lexer": "ipython3",
   "version": "3.9.2"
  }
 },
 "nbformat": 4,
 "nbformat_minor": 5
}
