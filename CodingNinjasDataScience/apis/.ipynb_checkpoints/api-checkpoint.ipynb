{
 "cells": [
  {
   "cell_type": "code",
   "execution_count": 20,
   "id": "animal-disclaimer",
   "metadata": {},
   "outputs": [],
   "source": [
    "import requests\n",
    "import json"
   ]
  },
  {
   "cell_type": "code",
   "execution_count": 45,
   "id": "compact-playback",
   "metadata": {},
   "outputs": [],
   "source": [
    "resp = requests.get(\"https://codingninjas.in/api/v3/courses\")\n",
    "pydata = json.loads(resp.text)"
   ]
  },
  {
   "cell_type": "code",
   "execution_count": 49,
   "id": "residential-setting",
   "metadata": {},
   "outputs": [
    {
     "name": "stdout",
     "output_type": "stream",
     "text": [
      "dict_keys(['data', 'message', 'status', 'error', 'disabled', 'update', 'external_rating'])\n"
     ]
    }
   ],
   "source": [
    "print(pydata.keys())"
   ]
  },
  {
   "cell_type": "code",
   "execution_count": 131,
   "id": "informative-capitol",
   "metadata": {},
   "outputs": [
    {
     "name": "stdout",
     "output_type": "stream",
     "text": [
      "# C++ & Data Structures\n",
      "# Premium Web Dev Course\n",
      "# Front End (React)\n",
      "# Competitive Programmer\n",
      "# System Design Course\n",
      "# Premium Competitive Course\n",
      "# Premium Machine Learning Course\n",
      "# Machine Learning\n",
      "# Data structures and Algorithms [C++/Java/Python]\n",
      "# Premium Data Science Course\n",
      "# Premium Android Course\n",
      "# Android Developer\n",
      "# Web Dev (Full Stack)\n",
      "# Java & Data Structures\n",
      "# Python & Web Dev (MERN)\n",
      "# Grokking the Operating Systems Interview\n",
      "# Data Science\n",
      "# Interview Preparation\n",
      "# C++ & Web Dev (Node.js)\n",
      "# Competitive Programming\n",
      "# Python & Data Structures\n",
      "# Android (Kotlin)\n",
      "# Data Scientist\n",
      "# Aptitude Preparation\n",
      "# Machine Learning\n",
      "\n",
      "Total 25 Courses are offerred by CN\n"
     ]
    }
   ],
   "source": [
    "crss = pydata[\"data\"][\"courses\"]\n",
    "for ele in crss:\n",
    "    print(\"# \",ele['title'],sep=\"\")\n",
    "print(\"\\nTotal {} Courses are offerred by CN\".format(len(crss)))\n"
   ]
  },
  {
   "cell_type": "code",
   "execution_count": 145,
   "id": "russian-equality",
   "metadata": {},
   "outputs": [
    {
     "name": "stdout",
     "output_type": "stream",
     "text": [
      "C++ Foundation with Data Structures\n",
      "Premium Full Stack Web Development\n",
      "Advanced  Front-End Web Development with React\n",
      "Ninja Competitive Programmer Track\n",
      "System Design Course\n",
      "Premium Competitive Programming Course\n",
      "Premium Machine Learning Course\n",
      "Machine Learning & Deep Learning Course\n",
      "Premium Data structures and Algorithms [C++/Java/Python]\n",
      "Premium Data Science Course\n",
      "Premium Android App Development\n",
      "Ninja Android Developer Career Track \n",
      "Full Stack Web Development\n",
      "JAVA Foundation with Data Structures\n",
      "Ninja  Web Developer Career Track - NodeJS & ReactJs\n",
      "Grokking the Operating Systems Interview\n",
      "Data Science & Machine Learning Complete\n",
      "Interview Preparation Course\n",
      "Ninja  Web Developer Career Track - NodeJS\n",
      "Competitive Programming Course\n",
      "Python Foundation with Data Structures\n",
      "Android Development with Kotlin\n",
      "Ninja Data Scientist Career Track\n",
      "Aptitude Preparation Course\n",
      "Ninja Machine Learning Engineer Career Track\n"
     ]
    }
   ],
   "source": [
    "crsslist = pydata[\"data\"][\"courses\"]\n",
    "onlinecount = 0\n",
    "for el in crsslist:\n",
    "    if el['available_online'] == True:\n",
    "        print(el['name'])\n",
    "        onlinecount+=1\n"
   ]
  },
  {
   "cell_type": "markdown",
   "id": "entitled-religious",
   "metadata": {},
   "source": [
    "---"
   ]
  },
  {
   "cell_type": "code",
   "execution_count": null,
   "id": "vital-cisco",
   "metadata": {},
   "outputs": [],
   "source": []
  },
  {
   "cell_type": "markdown",
   "id": "formed-layer",
   "metadata": {},
   "source": [
    "---"
   ]
  },
  {
   "cell_type": "code",
   "execution_count": 89,
   "id": "digital-double",
   "metadata": {},
   "outputs": [],
   "source": [
    "import requests\n",
    "import json\n",
    "\n",
    "url = \"\"\"https://dog.ceo/api/breeds/list/all\"\"\"\n",
    "\n",
    "response = requests.get(url)"
   ]
  },
  {
   "cell_type": "code",
   "execution_count": 96,
   "id": "interpreted-people",
   "metadata": {},
   "outputs": [
    {
     "name": "stdout",
     "output_type": "stream",
     "text": [
      "dict_keys(['message', 'status'])\n"
     ]
    }
   ],
   "source": [
    "resp_py = response.json()\n",
    "# print(resp_py.keys())"
   ]
  },
  {
   "cell_type": "code",
   "execution_count": 100,
   "id": "fiscal-fetish",
   "metadata": {},
   "outputs": [
    {
     "name": "stdout",
     "output_type": "stream",
     "text": [
      "afghan\n",
      "basset\n",
      "blood\n",
      "english\n",
      "ibizan\n",
      "plott\n",
      "walker\n"
     ]
    }
   ],
   "source": [
    "hound_sub_breeds = resp_py[\"message\"][\"hound\"]\n",
    "for sb in hound_sub_breeds:\n",
    "    print(sb)"
   ]
  },
  {
   "cell_type": "code",
   "execution_count": 101,
   "id": "attended-quick",
   "metadata": {},
   "outputs": [
    {
     "name": "stdout",
     "output_type": "stream",
     "text": [
      "3\n"
     ]
    }
   ],
   "source": [
    "poodle_sub_breeds = resp_py[\"message\"][\"poodle\"]\n",
    "print(len(poodle_sub_breeds))"
   ]
  },
  {
   "cell_type": "markdown",
   "id": "reflected-criminal",
   "metadata": {},
   "source": [
    "---"
   ]
  },
  {
   "cell_type": "code",
   "execution_count": 162,
   "id": "statewide-nancy",
   "metadata": {},
   "outputs": [
    {
     "name": "stdout",
     "output_type": "stream",
     "text": [
      "dict_keys(['data', 'message', 'status', 'error', 'disabled', 'update', 'external_rating'])\n",
      "Microsoft Mock and Masterclass with Microsoft Alumni's coming soon... \n"
     ]
    }
   ],
   "source": [
    "new_url = \"\"\"https://api.codingninjas.com/api/v3/events?event_category=ALL_EVENTS&event_sub_category=All%20Time%20Favorites&tag_list=&offset=0&_ga=2.232461087.1257685664.1628610786-1216722654.1627057973\"\"\"\n",
    "req = requests.get(new_url)\n",
    "req = req.json()\n",
    "print(req.keys())\n",
    "\n",
    "req_data = req[\"data\"]\n",
    "\n",
    "print(req_data[\"events\"][0][\"short_desc\"])"
   ]
  },
  {
   "cell_type": "code",
   "execution_count": null,
   "id": "suspected-discount",
   "metadata": {},
   "outputs": [],
   "source": []
  },
  {
   "cell_type": "markdown",
   "id": "adjusted-black",
   "metadata": {},
   "source": [
    "---"
   ]
  },
  {
   "cell_type": "code",
   "execution_count": null,
   "id": "known-mouse",
   "metadata": {},
   "outputs": [],
   "source": []
  },
  {
   "cell_type": "code",
   "execution_count": 165,
   "id": "excess-ballot",
   "metadata": {},
   "outputs": [
    {
     "name": "stdout",
     "output_type": "stream",
     "text": [
      "dict_keys(['data', 'message', 'status', 'error', 'disabled', 'update', 'external_rating'])\n"
     ]
    }
   ],
   "source": [
    "url_a = \"\"\"http://api.codingninjas.com/api/v3/courses\"\"\"\n",
    "\n",
    "req = requests.get(url_a)\n",
    "req = req.json()\n",
    "\n",
    "print(req.keys())\n",
    "\n",
    "req_data = req[\"data\"]"
   ]
  },
  {
   "cell_type": "code",
   "execution_count": 177,
   "id": "educational-norway",
   "metadata": {},
   "outputs": [
    {
     "name": "stdout",
     "output_type": "stream",
     "text": [
      "Machine Learning\n"
     ]
    }
   ],
   "source": [
    "ll = req_data[\"courses\"]\n",
    "for cr in ll:\n",
    "    if cr[\"id\"] == 19:\n",
    "        print(cr[\"title\"])\n",
    "        break"
   ]
  },
  {
   "cell_type": "code",
   "execution_count": null,
   "id": "eleven-position",
   "metadata": {},
   "outputs": [],
   "source": []
  },
  {
   "cell_type": "markdown",
   "id": "ideal-technology",
   "metadata": {},
   "source": [
    "---"
   ]
  },
  {
   "cell_type": "code",
   "execution_count": null,
   "id": "worse-words",
   "metadata": {},
   "outputs": [],
   "source": []
  },
  {
   "cell_type": "code",
   "execution_count": 180,
   "id": "sporting-vehicle",
   "metadata": {},
   "outputs": [
    {
     "name": "stdout",
     "output_type": "stream",
     "text": [
      "dict_keys(['meta', 'results'])\n"
     ]
    }
   ],
   "source": [
    "url_b = \"\"\"https://api.openaq.org/v1/cities/\"\"\"\n",
    "req = requests.get(url_b)\n",
    "req = req.json()\n",
    "print(req.keys())"
   ]
  },
  {
   "cell_type": "code",
   "execution_count": 185,
   "id": "cleared-border",
   "metadata": {},
   "outputs": [
    {
     "name": "stdout",
     "output_type": "stream",
     "text": [
      "4\n"
     ]
    }
   ],
   "source": [
    "lr = req[\"results\"]\n",
    "s = set()\n",
    "for r in lr:\n",
    "    if r[\"country\"] == \"AU\":\n",
    "#         print(r)        \n",
    "        s.add(r[\"city\"])\n",
    "print(len(s))"
   ]
  }
 ],
 "metadata": {
  "kernelspec": {
   "display_name": "Python 3",
   "language": "python",
   "name": "python3"
  },
  "language_info": {
   "codemirror_mode": {
    "name": "ipython",
    "version": 3
   },
   "file_extension": ".py",
   "mimetype": "text/x-python",
   "name": "python",
   "nbconvert_exporter": "python",
   "pygments_lexer": "ipython3",
   "version": "3.9.2"
  }
 },
 "nbformat": 4,
 "nbformat_minor": 5
}
