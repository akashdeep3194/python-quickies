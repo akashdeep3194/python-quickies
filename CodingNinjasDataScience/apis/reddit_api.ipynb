{
 "cells": [
  {
   "cell_type": "code",
   "execution_count": 103,
   "id": "coordinated-child",
   "metadata": {},
   "outputs": [],
   "source": [
    "cid = 'ipK3irCApGec8l1AFjAwHg'\n",
    "cst = 'CX6x0swwKDN32B1zkha79l5rjSU-4A'\n",
    "\n",
    "import requests\n",
    "import json\n",
    "\n",
    "\n",
    "url_auth = '''https://www.reddit.com/api/v1/authorize'''\n",
    "params_data = {'client_id':cid, 'response_type':'code', 'state':'random_statet','redirect_uri':'https://www.google.com/','scope':'read'}\n",
    "\n",
    "resp = requests.get(url_auth,params = params_data)\n"
   ]
  },
  {
   "cell_type": "code",
   "execution_count": null,
   "id": "previous-object",
   "metadata": {},
   "outputs": [],
   "source": []
  },
  {
   "cell_type": "code",
   "execution_count": null,
   "id": "relative-learning",
   "metadata": {},
   "outputs": [],
   "source": []
  },
  {
   "cell_type": "code",
   "execution_count": null,
   "id": "motivated-correspondence",
   "metadata": {},
   "outputs": [],
   "source": []
  },
  {
   "cell_type": "code",
   "execution_count": null,
   "id": "secret-italian",
   "metadata": {},
   "outputs": [],
   "source": []
  },
  {
   "cell_type": "code",
   "execution_count": null,
   "id": "earlier-consultation",
   "metadata": {},
   "outputs": [],
   "source": []
  },
  {
   "cell_type": "code",
   "execution_count": 104,
   "id": "sonic-universe",
   "metadata": {},
   "outputs": [
    {
     "name": "stdout",
     "output_type": "stream",
     "text": [
      "https://www.reddit.com/login/?dest=https%3A%2F%2Fwww.reddit.com%2Fapi%2Fv1%2Fauthorize%3Fclient_id%3DipK3irCApGec8l1AFjAwHg%26response_type%3Dcode%26state%3Drandom_statet%26redirect_uri%3Dhttps%253A%252F%252Fwww.google.com%252F%26scope%3Dread\n"
     ]
    }
   ],
   "source": [
    "print(resp.url)"
   ]
  },
  {
   "cell_type": "code",
   "execution_count": null,
   "id": "surgical-belarus",
   "metadata": {},
   "outputs": [],
   "source": []
  },
  {
   "cell_type": "code",
   "execution_count": null,
   "id": "plain-producer",
   "metadata": {},
   "outputs": [],
   "source": []
  },
  {
   "cell_type": "code",
   "execution_count": null,
   "id": "sudden-sixth",
   "metadata": {},
   "outputs": [],
   "source": []
  },
  {
   "cell_type": "code",
   "execution_count": null,
   "id": "difficult-sheffield",
   "metadata": {},
   "outputs": [],
   "source": []
  },
  {
   "cell_type": "code",
   "execution_count": null,
   "id": "accepting-nirvana",
   "metadata": {},
   "outputs": [],
   "source": []
  },
  {
   "cell_type": "code",
   "execution_count": null,
   "id": "thrown-application",
   "metadata": {},
   "outputs": [],
   "source": []
  },
  {
   "cell_type": "code",
   "execution_count": 105,
   "id": "rising-equipment",
   "metadata": {},
   "outputs": [
    {
     "name": "stdout",
     "output_type": "stream",
     "text": [
      "<Response [200]>\n"
     ]
    }
   ],
   "source": [
    "code = 'cTNVSkFxJwAOTRWB4sdjO0BQD4TotA'\n",
    "from requests.auth import HTTPBasicAuth\n",
    "url_token = '''https://www.reddit.com/api/v1/access_token'''\n",
    "auth_cred = (cid, cst)\n",
    "headers = {\"User-Agent\":'akashdeep'}\n",
    "data_par = {'grant_type':'authorization_code', 'code':code,'redirect_uri':'https://www.google.com/'}\n",
    "resp_token = requests.post(url_token,data = data_par,auth=auth_cred,headers = headers)\n",
    "print(resp_token)"
   ]
  },
  {
   "cell_type": "code",
   "execution_count": null,
   "id": "middle-hunter",
   "metadata": {},
   "outputs": [],
   "source": []
  },
  {
   "cell_type": "code",
   "execution_count": 106,
   "id": "fresh-mother",
   "metadata": {},
   "outputs": [
    {
     "name": "stdout",
     "output_type": "stream",
     "text": [
      "{\"access_token\": \"1090128428991-dAeRDD4yNugROVgBXyC6ZpQcUCNRhA\", \"token_type\": \"bearer\", \"expires_in\": 3600, \"scope\": \"read\"}\n"
     ]
    }
   ],
   "source": [
    "print(resp_token.text)"
   ]
  },
  {
   "cell_type": "code",
   "execution_count": null,
   "id": "emerging-separation",
   "metadata": {},
   "outputs": [],
   "source": [
    "token = '1090128428991-dAeRDD4yNugROVgBXyC6ZpQcUCNRhA'\n"
   ]
  }
 ],
 "metadata": {
  "kernelspec": {
   "display_name": "Python 3",
   "language": "python",
   "name": "python3"
  },
  "language_info": {
   "codemirror_mode": {
    "name": "ipython",
    "version": 3
   },
   "file_extension": ".py",
   "mimetype": "text/x-python",
   "name": "python",
   "nbconvert_exporter": "python",
   "pygments_lexer": "ipython3",
   "version": "3.9.2"
  }
 },
 "nbformat": 4,
 "nbformat_minor": 5
}
