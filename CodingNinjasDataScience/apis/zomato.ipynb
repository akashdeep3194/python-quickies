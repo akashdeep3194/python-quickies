{
 "cells": [
  {
   "cell_type": "code",
   "execution_count": 253,
   "id": "suitable-afghanistan",
   "metadata": {},
   "outputs": [
    {
     "name": "stdout",
     "output_type": "stream",
     "text": [
      "[{'cuisine': {'cuisine_id': 1035, 'cuisine_name': 'Afghan'}}, {'cuisine': {'cuisine_id': 152, 'cuisine_name': 'African'}}, {'cuisine': {'cuisine_id': 1, 'cuisine_name': 'American'}}, {'cuisine': {'cuisine_id': 2, 'cuisine_name': 'Andhra'}}, {'cuisine': {'cuisine_id': 4, 'cuisine_name': 'Arabian'}}, {'cuisine': {'cuisine_id': 3, 'cuisine_name': 'Asian'}}, {'cuisine': {'cuisine_id': 165, 'cuisine_name': 'Assamese'}}, {'cuisine': {'cuisine_id': 292, 'cuisine_name': 'Awadhi'}}, {'cuisine': {'cuisine_id': 193, 'cuisine_name': 'BBQ'}}, {'cuisine': {'cuisine_id': 5, 'cuisine_name': 'Bakery'}}, {'cuisine': {'cuisine_id': 227, 'cuisine_name': 'Bar Food'}}, {'cuisine': {'cuisine_id': 132, 'cuisine_name': 'Belgian'}}, {'cuisine': {'cuisine_id': 10, 'cuisine_name': 'Bengali'}}, {'cuisine': {'cuisine_id': 270, 'cuisine_name': 'Beverages'}}, {'cuisine': {'cuisine_id': 1013, 'cuisine_name': 'Bihari'}}, {'cuisine': {'cuisine_id': 7, 'cuisine_name': 'Biryani'}}, {'cuisine': {'cuisine_id': 159, 'cuisine_name': 'Brazilian'}}, {'cuisine': {'cuisine_id': 133, 'cuisine_name': 'British'}}, {'cuisine': {'cuisine_id': 247, 'cuisine_name': 'Bubble Tea'}}, {'cuisine': {'cuisine_id': 168, 'cuisine_name': 'Burger'}}, {'cuisine': {'cuisine_id': 22, 'cuisine_name': 'Burmese'}}, {'cuisine': {'cuisine_id': 30, 'cuisine_name': 'Cafe'}}, {'cuisine': {'cuisine_id': 121, 'cuisine_name': 'Cantonese'}}, {'cuisine': {'cuisine_id': 994, 'cuisine_name': 'Charcoal Chicken'}}, {'cuisine': {'cuisine_id': 18, 'cuisine_name': 'Chettinad'}}, {'cuisine': {'cuisine_id': 25, 'cuisine_name': 'Chinese'}}, {'cuisine': {'cuisine_id': 1040, 'cuisine_name': 'Coffee'}}, {'cuisine': {'cuisine_id': 35, 'cuisine_name': 'Continental'}}, {'cuisine': {'cuisine_id': 1014, 'cuisine_name': 'Cuisine Varies'}}, {'cuisine': {'cuisine_id': 100, 'cuisine_name': 'Desserts'}}, {'cuisine': {'cuisine_id': 268, 'cuisine_name': 'Drinks Only'}}, {'cuisine': {'cuisine_id': 146, 'cuisine_name': 'Egyptian'}}, {'cuisine': {'cuisine_id': 149, 'cuisine_name': 'Ethiopian'}}, {'cuisine': {'cuisine_id': 38, 'cuisine_name': 'European'}}, {'cuisine': {'cuisine_id': 40, 'cuisine_name': 'Fast Food'}}, {'cuisine': {'cuisine_id': 271, 'cuisine_name': 'Finger Food'}}, {'cuisine': {'cuisine_id': 45, 'cuisine_name': 'French'}}, {'cuisine': {'cuisine_id': 501, 'cuisine_name': 'Frozen Yogurt'}}, {'cuisine': {'cuisine_id': 47, 'cuisine_name': 'Goan'}}, {'cuisine': {'cuisine_id': 156, 'cuisine_name': 'Greek'}}, {'cuisine': {'cuisine_id': 1059, 'cuisine_name': 'Grocery'}}, {'cuisine': {'cuisine_id': 48, 'cuisine_name': 'Gujarati'}}, {'cuisine': {'cuisine_id': 143, 'cuisine_name': 'Healthy Food'}}, {'cuisine': {'cuisine_id': 1049, 'cuisine_name': 'Himachali'}}, {'cuisine': {'cuisine_id': 1026, 'cuisine_name': 'Hot dogs'}}, {'cuisine': {'cuisine_id': 49, 'cuisine_name': 'Hyderabadi'}}, {'cuisine': {'cuisine_id': 233, 'cuisine_name': 'Ice Cream'}}, {'cuisine': {'cuisine_id': 114, 'cuisine_name': 'Indonesian'}}, {'cuisine': {'cuisine_id': 140, 'cuisine_name': 'Iranian'}}, {'cuisine': {'cuisine_id': 218, 'cuisine_name': 'Israeli'}}, {'cuisine': {'cuisine_id': 55, 'cuisine_name': 'Italian'}}, {'cuisine': {'cuisine_id': 207, 'cuisine_name': 'Jamaican'}}, {'cuisine': {'cuisine_id': 60, 'cuisine_name': 'Japanese'}}, {'cuisine': {'cuisine_id': 164, 'cuisine_name': 'Juices'}}, {'cuisine': {'cuisine_id': 65, 'cuisine_name': 'Kashmiri'}}, {'cuisine': {'cuisine_id': 178, 'cuisine_name': 'Kebab'}}, {'cuisine': {'cuisine_id': 62, 'cuisine_name': 'Kerala'}}, {'cuisine': {'cuisine_id': 67, 'cuisine_name': 'Korean'}}, {'cuisine': {'cuisine_id': 66, 'cuisine_name': 'Lebanese'}}, {'cuisine': {'cuisine_id': 157, 'cuisine_name': 'Lucknowi'}}, {'cuisine': {'cuisine_id': 102, 'cuisine_name': 'Maharashtrian'}}, {'cuisine': {'cuisine_id': 69, 'cuisine_name': 'Malaysian'}}, {'cuisine': {'cuisine_id': 72, 'cuisine_name': 'Mangalorean'}}, {'cuisine': {'cuisine_id': 70, 'cuisine_name': 'Mediterranean'}}, {'cuisine': {'cuisine_id': 73, 'cuisine_name': 'Mexican'}}, {'cuisine': {'cuisine_id': 137, 'cuisine_name': 'Middle Eastern'}}, {'cuisine': {'cuisine_id': 1041, 'cuisine_name': 'Mishti'}}, {'cuisine': {'cuisine_id': 1015, 'cuisine_name': 'Mithai'}}, {'cuisine': {'cuisine_id': 1018, 'cuisine_name': 'Modern Indian'}}, {'cuisine': {'cuisine_id': 1051, 'cuisine_name': 'Momos'}}, {'cuisine': {'cuisine_id': 75, 'cuisine_name': 'Mughlai'}}, {'cuisine': {'cuisine_id': 166, 'cuisine_name': 'Naga'}}, {'cuisine': {'cuisine_id': 117, 'cuisine_name': 'Nepalese'}}, {'cuisine': {'cuisine_id': 231, 'cuisine_name': 'North Eastern'}}, {'cuisine': {'cuisine_id': 50, 'cuisine_name': 'North Indian'}}, {'cuisine': {'cuisine_id': 1057, 'cuisine_name': 'Odia'}}, {'cuisine': {'cuisine_id': 278, 'cuisine_name': 'Oriental'}}, {'cuisine': {'cuisine_id': 1048, 'cuisine_name': 'Paan'}}, {'cuisine': {'cuisine_id': 139, 'cuisine_name': 'Pakistani'}}, {'cuisine': {'cuisine_id': 989, 'cuisine_name': 'Panini'}}, {'cuisine': {'cuisine_id': 290, 'cuisine_name': 'Parsi'}}, {'cuisine': {'cuisine_id': 1064, 'cuisine_name': 'Pasta'}}, {'cuisine': {'cuisine_id': 82, 'cuisine_name': 'Pizza'}}, {'cuisine': {'cuisine_id': 1019, 'cuisine_name': 'Poké'}}, {'cuisine': {'cuisine_id': 87, 'cuisine_name': 'Portuguese'}}, {'cuisine': {'cuisine_id': 88, 'cuisine_name': 'Rajasthani'}}, {'cuisine': {'cuisine_id': 27, 'cuisine_name': 'Raw Meats'}}, {'cuisine': {'cuisine_id': 1005, 'cuisine_name': 'Roast Chicken'}}, {'cuisine': {'cuisine_id': 1023, 'cuisine_name': 'Rolls'}}, {'cuisine': {'cuisine_id': 84, 'cuisine_name': 'Russian'}}, {'cuisine': {'cuisine_id': 998, 'cuisine_name': 'Salad'}}, {'cuisine': {'cuisine_id': 304, 'cuisine_name': 'Sandwich'}}, {'cuisine': {'cuisine_id': 83, 'cuisine_name': 'Seafood'}}, {'cuisine': {'cuisine_id': 993, 'cuisine_name': 'Sindhi'}}, {'cuisine': {'cuisine_id': 119, 'cuisine_name': 'Singaporean'}}, {'cuisine': {'cuisine_id': 972, 'cuisine_name': 'South American'}}, {'cuisine': {'cuisine_id': 85, 'cuisine_name': 'South Indian'}}, {'cuisine': {'cuisine_id': 89, 'cuisine_name': 'Spanish'}}, {'cuisine': {'cuisine_id': 86, 'cuisine_name': 'Sri Lankan'}}, {'cuisine': {'cuisine_id': 141, 'cuisine_name': 'Steak'}}, {'cuisine': {'cuisine_id': 90, 'cuisine_name': 'Street Food'}}, {'cuisine': {'cuisine_id': 177, 'cuisine_name': 'Sushi'}}, {'cuisine': {'cuisine_id': 1054, 'cuisine_name': 'Tamil'}}, {'cuisine': {'cuisine_id': 163, 'cuisine_name': 'Tea'}}, {'cuisine': {'cuisine_id': 150, 'cuisine_name': 'Tex-Mex'}}, {'cuisine': {'cuisine_id': 95, 'cuisine_name': 'Thai'}}, {'cuisine': {'cuisine_id': 93, 'cuisine_name': 'Tibetan'}}, {'cuisine': {'cuisine_id': 142, 'cuisine_name': 'Turkish'}}, {'cuisine': {'cuisine_id': 99, 'cuisine_name': 'Vietnamese'}}, {'cuisine': {'cuisine_id': 1024, 'cuisine_name': 'Wraps'}}]\n"
     ]
    }
   ],
   "source": [
    "import requests\n",
    "import json\n",
    "url = \"https://developers.zomato.com/api/v2.1/cuisines\"\n",
    "params = {'city_id':'1'}\n",
    "headers = {'accept': 'application/json',\n",
    "          'user-key': '627c28c07ad221c65491bbffea6f5d54'}\n",
    "\n",
    "resp = requests.get(url,params=params,headers=headers)\n",
    "resp=resp.json()\n",
    "print(resp['cuisines'])"
   ]
  },
  {
   "cell_type": "code",
   "execution_count": null,
   "id": "monetary-aaron",
   "metadata": {},
   "outputs": [],
   "source": [
    "for cus in resp['cuisines']:\n",
    "    if cus['cuisine']['cuisine_name'] == 'Mexican':\n",
    "        print(cus['cuisine']['cuisine_id'])\n",
    "        break"
   ]
  },
  {
   "cell_type": "code",
   "execution_count": null,
   "id": "willing-springfield",
   "metadata": {},
   "outputs": [],
   "source": []
  },
  {
   "cell_type": "markdown",
   "id": "circular-carolina",
   "metadata": {},
   "source": [
    "---"
   ]
  },
  {
   "cell_type": "code",
   "execution_count": null,
   "id": "looking-tonight",
   "metadata": {},
   "outputs": [],
   "source": []
  },
  {
   "cell_type": "code",
   "execution_count": null,
   "id": "demographic-portsmouth",
   "metadata": {},
   "outputs": [],
   "source": [
    "url = 'https://developers.zomato.com/api/v2.1/geocode'\n",
    "params={'lat':'28.63314367204676',\n",
    "        'lon':'77.21955933748612'\n",
    "       }\n",
    "headers = {'accept': 'application/json',\n",
    "          'user-key': '627c28c07ad221c65491bbffea6f5d54'}\n",
    "\n",
    "rr = requests.get(url,params=params,headers=headers)\n",
    "\n",
    "\n",
    "rrj = rr.json()\n",
    "print(rrj['location']['entity_type'],rrj['location']['entity_id'])"
   ]
  },
  {
   "cell_type": "markdown",
   "id": "south-basics",
   "metadata": {},
   "source": [
    "---"
   ]
  },
  {
   "cell_type": "code",
   "execution_count": null,
   "id": "dirty-creature",
   "metadata": {},
   "outputs": [],
   "source": []
  },
  {
   "cell_type": "code",
   "execution_count": null,
   "id": "matched-conducting",
   "metadata": {},
   "outputs": [],
   "source": [
    "url = \"https://developers.zomato.com/api/v2.1/search\"\n",
    "headers = {'accept' :'application/json',\n",
    "           'user-key': '627c28c07ad221c65491bbffea6f5d54'}\n",
    "\n",
    "answer=[]\n",
    "st = 0\n",
    "rf = 1\n",
    "while len(answer)<10 and st<rf:\n",
    "    params = {'entity_id':'104',\n",
    "              'entity_type':'subzone',\n",
    "              'start':st,\n",
    "              'sort':'rating',\n",
    "              'order':'dsc'\n",
    "             }\n",
    "\n",
    "    rrx = requests.get(url,headers=headers,params=params)\n",
    "    \n",
    "    st+=20\n",
    "\n",
    "    print(rrx.url)\n",
    "    rr = rrx.json()\n",
    "    rf = rr['results_found']\n",
    "    print(rf)\n",
    "\n",
    "    # print(rr['restaurants'][0]['restaurant'].keys())\n",
    "\n",
    "    urlrrest = \"https://developers.zomato.com/api/v2.1/restaurant\"\n",
    "\n",
    "    for r in rr['restaurants']:\n",
    "        res_id = r['restaurant']['R']['res_id']\n",
    "        params_rest = {\n",
    "        'res_id':res_id\n",
    "        }\n",
    "        rrest = requests.get(urlrrest,headers=headers,params=params_rest)\n",
    "        rrest = rrest.json()\n",
    "        cu = rrest['cuisines'].title()\n",
    "        if cu.find(\"Mexican\")>-1:\n",
    "            answer.append([r['restaurant']['name'],r['restaurant']['user_rating']['aggregate_rating'],res_id,cu])"
   ]
  },
  {
   "cell_type": "code",
   "execution_count": null,
   "id": "executed-detroit",
   "metadata": {},
   "outputs": [],
   "source": [
    "for ele in answer:\n",
    "    print(ele[0],ele[1],ele[2])"
   ]
  },
  {
   "cell_type": "code",
   "execution_count": null,
   "id": "arabic-announcement",
   "metadata": {},
   "outputs": [],
   "source": []
  },
  {
   "cell_type": "markdown",
   "id": "hybrid-brick",
   "metadata": {},
   "source": [
    "---"
   ]
  },
  {
   "cell_type": "code",
   "execution_count": null,
   "id": "nervous-banks",
   "metadata": {},
   "outputs": [],
   "source": []
  },
  {
   "cell_type": "code",
   "execution_count": null,
   "id": "stainless-fleet",
   "metadata": {},
   "outputs": [],
   "source": [
    "url = 'https://developers.zomato.com/api/v2.1/categories'\n",
    "\n",
    "headers = {'accept' :'application/json',\n",
    "           'user-key': '627c28c07ad221c65491bbffea6f5d54'}\n",
    "\n",
    "rrx = requests.get(url,headers=headers)\n",
    "rrx = rrx.json()\n",
    "\n",
    "\n",
    "for el in rrx['categories']:\n",
    "    if (el['categories']['name'] == \"Cafes\"):\n",
    "        print(el['categories']['id'])"
   ]
  },
  {
   "cell_type": "code",
   "execution_count": null,
   "id": "tired-metro",
   "metadata": {},
   "outputs": [],
   "source": []
  },
  {
   "cell_type": "markdown",
   "id": "yellow-method",
   "metadata": {},
   "source": [
    "---"
   ]
  },
  {
   "cell_type": "code",
   "execution_count": null,
   "id": "executed-discretion",
   "metadata": {},
   "outputs": [],
   "source": []
  },
  {
   "cell_type": "code",
   "execution_count": null,
   "id": "guided-virus",
   "metadata": {},
   "outputs": [],
   "source": [
    "url = 'https://developers.zomato.com/api/v2.1/restaurant?res_id=18429148'\n",
    "\n",
    "headers = {'accept' :'application/json',\n",
    "           'user-key': '627c28c07ad221c65491bbffea6f5d54'}\n",
    "\n",
    "rrx = requests.get(url,headers=headers)\n",
    "rrx = rrx.json()\n",
    "print(rrx['user_rating']['aggregate_rating'],rrx['average_cost_for_two'],rrx['cuisines'],rrx['location']['address'],sep=\"\\n\")"
   ]
  },
  {
   "cell_type": "markdown",
   "id": "smooth-tourism",
   "metadata": {},
   "source": [
    "---"
   ]
  },
  {
   "cell_type": "code",
   "execution_count": null,
   "id": "upper-performer",
   "metadata": {},
   "outputs": [],
   "source": []
  },
  {
   "cell_type": "code",
   "execution_count": null,
   "id": "federal-corruption",
   "metadata": {},
   "outputs": [],
   "source": [
    "url = 'https://developers.zomato.com/api/v2.1/restaurant?res_id=18429148'\n",
    "\n",
    "headers = {'accept' :'application/json',\n",
    "           'user-key': '627c28c07ad221c65491bbffea6f5d54'}\n",
    "\n",
    "rrx = requests.get(url,headers=headers)\n",
    "rrx = rrx.json()\n",
    "if rrx['is_table_reservation_supported'] == 1:\n",
    "    print(\"yes\")\n",
    "else:\n",
    "    print(\"no\")"
   ]
  },
  {
   "cell_type": "markdown",
   "id": "frequent-spell",
   "metadata": {},
   "source": [
    "---"
   ]
  },
  {
   "cell_type": "code",
   "execution_count": null,
   "id": "hired-bearing",
   "metadata": {},
   "outputs": [],
   "source": []
  },
  {
   "cell_type": "code",
   "execution_count": null,
   "id": "existing-isaac",
   "metadata": {},
   "outputs": [],
   "source": [
    "url = 'https://developers.zomato.com/api/v2.1/restaurant?res_id=18429148'\n",
    "\n",
    "headers = {'accept' :'application/json',\n",
    "           'user-key': '627c28c07ad221c65491bbffea6f5d54'}\n",
    "\n",
    "rrx = requests.get(url,headers=headers)\n",
    "rrx = rrx.json()\n",
    "for el in rrx['all_reviews']['reviews']:\n",
    "    print(el[\"review\"])"
   ]
  },
  {
   "cell_type": "code",
   "execution_count": null,
   "id": "random-spare",
   "metadata": {},
   "outputs": [],
   "source": []
  },
  {
   "cell_type": "markdown",
   "id": "retained-house",
   "metadata": {},
   "source": [
    "---"
   ]
  },
  {
   "cell_type": "code",
   "execution_count": null,
   "id": "detected-student",
   "metadata": {},
   "outputs": [],
   "source": []
  },
  {
   "cell_type": "code",
   "execution_count": null,
   "id": "eligible-reading",
   "metadata": {},
   "outputs": [],
   "source": [
    "import requests\n",
    "import json\n",
    "url = \"https://developers.zomato.com/api/v2.1/cuisines\"\n",
    "params = {'city_id':'1'}\n",
    "headers = {'accept': 'application/json',\n",
    "          'user-key': '627c28c07ad221c65491bbffea6f5d54'}\n",
    "\n",
    "resp = requests.get(url,params=params,headers=headers)\n",
    "resp=resp.json()\n",
    "\n",
    "for cus in resp['cuisines']:\n",
    "    if cus['cuisine']['cuisine_name'] == 'BBQ':\n",
    "        print(cus['cuisine']['cuisine_id'])\n",
    "        break"
   ]
  },
  {
   "cell_type": "code",
   "execution_count": null,
   "id": "public-swift",
   "metadata": {},
   "outputs": [],
   "source": []
  },
  {
   "cell_type": "markdown",
   "id": "smaller-third",
   "metadata": {},
   "source": [
    "---"
   ]
  },
  {
   "cell_type": "code",
   "execution_count": null,
   "id": "innovative-fourth",
   "metadata": {},
   "outputs": [],
   "source": []
  },
  {
   "cell_type": "code",
   "execution_count": 330,
   "id": "married-singapore",
   "metadata": {},
   "outputs": [
    {
     "name": "stdout",
     "output_type": "stream",
     "text": [
      "Station Bar 4.5 18851371 Chinese, Continental, North Indian, Mughlai, Fast Food, Beverages\n",
      "Master Of Malts 4.4 18391149 North Indian, Chinese, Continental, Fast Food, Salad, Beverages\n",
      "Tamasha 4.3 18238278 Asian, North Indian, Continental, Italian\n",
      "Local 4.3 18382360 North Indian, Continental, Beverages, Italian\n",
      "The Junkyard Cafe 4.3 313256 North Indian, Mediterranean, Asian, Italian\n",
      "Ministry Of Beer 4.3 18418277 Continental, Italian, Asian, North Indian, Beverages\n",
      "The Darzi Bar & Kitchen 4.3 18423151 North Indian, Chinese, Continental, Pizza, Finger Food, Asian, Desserts, Beverages\n",
      "Teddy Boy 4.3 18281985 Thai, Continental, Mexican, Chinese, Beverages\n",
      "Lord Of The Drinks 4.3 312603 Oriental, North Indian, Continental, Beverages\n",
      "Openhouse Cafe 4.3 312601 North Indian, Chinese, Continental, Mughlai, Beverages\n"
     ]
    }
   ],
   "source": [
    "## Open and read data file as specified in the question\n",
    "## Print the required output in given format\n",
    "import requests,json\n",
    "\n",
    "url = \"https://developers.zomato.com/api/v2.1/search\"\n",
    "headers = {'accept' :'application/json',\n",
    "           'user-key': '627c28c07ad221c65491bbffea6f5d54'}\n",
    "params = {'entity_id':'104',\n",
    "          'entity_type':'subzone',\n",
    "          'sort':'rating',\n",
    "          'count':'10',\n",
    "          'cuisines':'73',\n",
    "         }\n",
    "\n",
    "rr = requests.get(url,headers=headers,params=params)\n",
    "# print(rr.url)\n",
    "rr = rr.json()\n",
    "# print(rr['restaurants'][0]['restaurant'].keys())\n",
    "\n",
    "for r in rr['restaurants']:\n",
    "    print(r['restaurant']['name'],r['restaurant']['user_rating']['aggregate_rating'],r['restaurant']['R']['res_id'],r['restaurant']['cuisines'])"
   ]
  },
  {
   "cell_type": "code",
   "execution_count": 226,
   "id": "processed-minority",
   "metadata": {},
   "outputs": [
    {
     "name": "stdout",
     "output_type": "stream",
     "text": [
      "Xero Degrees 4.2 18729557\n",
      "Chaayos - Meri Wali Chai 4.2 18237315\n",
      "The Art House Restaurant 3.9 18863766\n",
      "Cafe Coffee Day - The Square 3.6 303034\n"
     ]
    }
   ],
   "source": [
    "## Open and read data file as specified in the question\n",
    "## Print the required output in given format\n",
    "import requests,json\n",
    "\n",
    "url = \"https://developers.zomato.com/api/v2.1/search\"\n",
    "headers = {'accept' :'application/json',\n",
    "           'user-key': '627c28c07ad221c65491bbffea6f5d54'}\n",
    "params = {'entity_id':'104',\n",
    "          'entity_type':'subzone',\n",
    "          'sort':'rating',\n",
    "          'count':'20',\n",
    "          'cuisines':'73',\n",
    "          'category':'6',\n",
    "          'order':'dsc'\n",
    "         }\n",
    "\n",
    "rr = requests.get(url,headers=headers,params=params)\n",
    "# print(rr.url)\n",
    "rr = rr.json()\n",
    "# print(rr['restaurants'][0]['restaurant'].keys())\n",
    "\n",
    "\n",
    "for r in rr['restaurants']:\n",
    "    print(r['restaurant']['name'],r['restaurant']['user_rating']['aggregate_rating'],r['restaurant']['R']['res_id'])"
   ]
  },
  {
   "cell_type": "code",
   "execution_count": null,
   "id": "collectible-wagner",
   "metadata": {},
   "outputs": [],
   "source": []
  },
  {
   "cell_type": "markdown",
   "id": "armed-audio",
   "metadata": {},
   "source": [
    "---"
   ]
  },
  {
   "cell_type": "code",
   "execution_count": null,
   "id": "respiratory-vancouver",
   "metadata": {},
   "outputs": [],
   "source": []
  },
  {
   "cell_type": "code",
   "execution_count": 235,
   "id": "forbidden-aspect",
   "metadata": {},
   "outputs": [
    {
     "name": "stdout",
     "output_type": "stream",
     "text": [
      "Rohit Singh 5 Amazing shakes. Great ambiance. Really cool place to hangout. Good food. Reasonable prices. Just amazing ❤️\n",
      "Delhifoodgirl 5 I went to this place yesterday with my friends We ordered a variety of food like pizza fries, pizza in a jar, chocolate shake, Red velvet shake, paneer makhni pizza and Alfredo pasta Everything was extremely delicious and perfectly made  Highly recommended place from my side\n",
      "Nikhil Chawla 5 Visited this place yesterday and ordered variety of things, had an amazing experience truely.  We ordered perry perry fries (my all time favorite thing from xero degree) and obviously those were really yumm.  Secondly we had chicken wings served with mayo, those crispy wings tasted too delicious and toothsome I tell you.  Next, in beverages we ordered chocolate Brownie shake and popcorn caramel freak shake, both tasted wonderful, shake was thick and amazing. One can't get this quality of food and beverages that too with inexpensive price tags in its adjacent areas in delhi. Lastly we had Nutella waffle, coated with lots of chocolate and ice cream also with teeny weeny sprinkles over the top, it was droolworthy. Additionally, the ambience of the Cafe is too good also the staff is attentive, I visited the outlet which is located in Connaught place l block, indeed a wonderful Cafe, a big thumbs up to xero degree. 👍🏻\n",
      "Donut Stop Eating 5 Had a lovely experience here. Ordered xero Chicken sandwich and chicken jar pizza. In drinks I ordered watermelon mint cooler and ALPHONSO cocaine thick shake. I can't explain how good the taste was and all the presentation stuff was just amazing. Budget friendly place and everybody can visit it but you will mostly find young crowd there. Ambience of this place is also very beautiful. Will recommend everyone to visit it once.\n",
      "Preeti Singh 5 the fries were a little too oily..................\n"
     ]
    }
   ],
   "source": [
    "## Open and read data file as specified in the question\n",
    "## Print the required output in given format\n",
    "import requests,json\n",
    "\n",
    "url = \"https://developers.zomato.com/api/v2.1/search\"\n",
    "headers = {'accept' :'application/json',\n",
    "           'user-key': '627c28c07ad221c65491bbffea6f5d54'}\n",
    "params = {'entity_id':'104',\n",
    "          'entity_type':'subzone',\n",
    "          'sort':'rating',\n",
    "          'count':'20',\n",
    "          'cuisines':'73',\n",
    "          'category':'6',\n",
    "          'order':'dsc'\n",
    "         }\n",
    "\n",
    "rr = requests.get(url,headers=headers,params=params)\n",
    "# print(rr.url)\n",
    "rr = rr.json()\n",
    "# print(rr['restaurants'][0]['restaurant'].keys())\n",
    "\n",
    "\n",
    "for r in rr['restaurants']:\n",
    "    resid = r['restaurant']['R']['res_id']\n",
    "    break\n",
    "\n",
    "    \n",
    "url = \"https://developers.zomato.com/api/v2.1/reviews\"\n",
    "headers = {'accept' :'application/json',\n",
    "           'user-key': '627c28c07ad221c65491bbffea6f5d54'}\n",
    "params = {'res_id':resid}\n",
    "\n",
    "rr = requests.get(url,headers=headers,params=params)\n",
    "rr = rr.json()\n",
    "\n",
    "for re in rr['user_reviews'][:5]:\n",
    "    print(re['review']['user']['name'],re['review']['rating'],re['review']['review_text'])\n"
   ]
  },
  {
   "cell_type": "code",
   "execution_count": null,
   "id": "adverse-thesaurus",
   "metadata": {},
   "outputs": [],
   "source": []
  },
  {
   "cell_type": "markdown",
   "id": "permanent-butter",
   "metadata": {},
   "source": [
    "---"
   ]
  },
  {
   "cell_type": "code",
   "execution_count": null,
   "id": "detected-scoop",
   "metadata": {},
   "outputs": [],
   "source": []
  },
  {
   "cell_type": "code",
   "execution_count": 240,
   "id": "mighty-potato",
   "metadata": {},
   "outputs": [
    {
     "name": "stdout",
     "output_type": "stream",
     "text": [
      "Ananya Rajput 5 \n",
      "Rohan Bhukad 3 A1 quality👌 A1 Taste  😋 A1 portion ❤️ A1 delivery 🚚 A1 packaging 📦 Order again soon................\n",
      "Mohini Foodie 3 Best Quality ➕ Best Quantity ➕ Best packaging ➕ Best prices ➕ Best Taste Kudos to team!!!!!!........\n",
      "Rahul Gandhi 3 On time delivery well packaging No compromise in quality. Quantity is great here. Highly Recommended\n",
      "Jitender 3 Good service and reliability are so fantastic. Fast ,Easy to order, Great service I enjoyed the food\n"
     ]
    }
   ],
   "source": [
    "## Open and read data file as specified in the question\n",
    "## Print the required output in given format\n",
    "import requests,json\n",
    "\n",
    "resid = 18429148\n",
    "    \n",
    "url = \"https://developers.zomato.com/api/v2.1/reviews\"\n",
    "\n",
    "headers = {'accept' :'application/json',\n",
    "           'user-key': '627c28c07ad221c65491bbffea6f5d54'}\n",
    "\n",
    "params = {'res_id':resid}\n",
    "\n",
    "rr = requests.get(url,headers=headers,params=params)\n",
    "rr = rr.json()\n",
    "\n",
    "for re in rr['user_reviews'][:5]:\n",
    "    print(re['review']['user']['name'],re['review']['rating'],re['review']['review_text'])"
   ]
  },
  {
   "cell_type": "code",
   "execution_count": null,
   "id": "psychological-customs",
   "metadata": {},
   "outputs": [],
   "source": []
  },
  {
   "cell_type": "markdown",
   "id": "smoking-council",
   "metadata": {},
   "source": [
    "---"
   ]
  },
  {
   "cell_type": "code",
   "execution_count": null,
   "id": "canadian-antibody",
   "metadata": {},
   "outputs": [],
   "source": []
  },
  {
   "cell_type": "code",
   "execution_count": 269,
   "id": "impressive-health",
   "metadata": {},
   "outputs": [
    {
     "name": "stdout",
     "output_type": "stream",
     "text": [
      "Peshawari Kohat Wale 3.9 4683 Pitampura\n",
      "Tandoori Nights 0 19661940 Pitampura\n",
      "UBQ by Barbeque Nation 3.5 18889769 Netaji Subhash Place\n",
      "Barbeque Nation 4.0 9561 Netaji Subhash Place\n",
      "Jungal Raaj 0 19786712 Rohini\n",
      "Anytime Chicken 0 19520153 Shalimar Bagh\n",
      "UBQ by Barbeque Nation 3.9 19082741 Lawrence Road\n",
      "Moet's Barbeque 0 19238917 Alipur\n",
      "The Tangdi Club 0 19779002 Rohini\n",
      "BBQ Express By The Barbeque Company 3.9 19494102 Punjabi Bagh\n"
     ]
    }
   ],
   "source": [
    "## Open and read data file as specified in the question\n",
    "## Print the required output in given format\n",
    "## Open and read data file as specified in the question\n",
    "## Print the required output in given format\n",
    "import requests,json\n",
    "\n",
    "url = \"https://developers.zomato.com/api/v2.1/search\"\n",
    "headers = {'accept' :'application/json',\n",
    "           'user-key': '627c28c07ad221c65491bbffea6f5d54'}\n",
    "params = {\n",
    "    'lat':\"28.697522\",\n",
    "    'lon':\"77.140681\",\n",
    "    'radius':'4000',\n",
    "    'sort':'real_distance',\n",
    "    'count':'20',\n",
    "    'cuisines':'193',\n",
    "    'order':'asc'\n",
    "     }\n",
    "\n",
    "rr = requests.get(url,headers=headers,params=params)\n",
    "# print(rr.url)\n",
    "rr = rr.json()\n",
    "# print(rr['restaurants'][0]['restaurant'].keys())\n",
    "\n",
    "\n",
    "for r in rr['restaurants'][:10]:\n",
    "    print(r['restaurant']['name'],r['restaurant']['user_rating']['aggregate_rating'],r['restaurant']['R']['res_id'],r['restaurant']['location']['locality'])\n",
    "\n",
    "    \n",
    "# url = \"https://developers.zomato.com/api/v2.1/reviews\"\n",
    "# headers = {'accept' :'application/json',\n",
    "#            'user-key': '627c28c07ad221c65491bbffea6f5d54'}\n",
    "# params = {'res_id':resid}\n",
    "\n",
    "# rr = requests.get(url,headers=headers,params=params)\n",
    "# rr = rr.json()\n",
    "\n",
    "# for re in rr['user_reviews'][:5]:\n",
    "#     print(re['review']['user']['name'],re['review']['rating'],re['review']['review_text'])\n"
   ]
  },
  {
   "cell_type": "code",
   "execution_count": null,
   "id": "congressional-pitch",
   "metadata": {},
   "outputs": [],
   "source": []
  },
  {
   "cell_type": "markdown",
   "id": "lesbian-christianity",
   "metadata": {},
   "source": [
    "---"
   ]
  },
  {
   "cell_type": "code",
   "execution_count": null,
   "id": "composed-algebra",
   "metadata": {},
   "outputs": [],
   "source": []
  },
  {
   "cell_type": "code",
   "execution_count": 265,
   "id": "transsexual-director",
   "metadata": {},
   "outputs": [
    {
     "name": "stdout",
     "output_type": "stream",
     "text": [
      "Indian Accent 4.9 2004 The Lodhi, Lodhi Road\n",
      "Kuremal Mohan Lal Kulfi Wale 4.9 303642 Chawri Bazar\n",
      "The Big Chill 4.9 1614 Khan Market\n",
      "Dum-Pukht - ITC Maurya 4.9 2744 ITC Maurya, Chanakyapuri\n",
      "The Big Chill 4.9 8244 Khan Market\n",
      "Fabelle Chocolates - Sheraton 4.9 18636590 Sheraton New Delhi Hotel, Saket\n",
      "The Big Chill Cafe 4.8 18919107 The Colonnade, Connaught Place\n",
      "The Big Chill 4.8 3192 DLF Avenue, Saket\n",
      "The Big Chill Cakery 4.8 18665943 Khan Market\n",
      "The Big Chill 4.8 3190 Kailash Colony\n"
     ]
    }
   ],
   "source": [
    "import requests\n",
    "import json\n",
    "h ={\"User-Agent\":\"curl/7.43.0\",\"Accept\": 'application/json',\"user-key\": '6162ab7c7c5fd81b127a91ecacfa3a24'}\n",
    "param={'lat':\"28.697522\",'lon':\"77.140681\",'radius':4000,'sort':'rating','count':10}\n",
    "r = requests.get('https://developers.zomato.com/api/v2.1/search', headers= h,params = param)\n",
    "data = r.json()\n",
    "for i in data['restaurants']:\n",
    "    print(i['restaurant']['name'],i['restaurant']['user_rating']['aggregate_rating'],i['restaurant']['R']['res_id'],i['restaurant']['location']['locality'])\n"
   ]
  },
  {
   "cell_type": "code",
   "execution_count": null,
   "id": "historical-silence",
   "metadata": {},
   "outputs": [],
   "source": []
  },
  {
   "cell_type": "markdown",
   "id": "south-vacation",
   "metadata": {},
   "source": [
    "---"
   ]
  },
  {
   "cell_type": "code",
   "execution_count": 323,
   "id": "medium-finland",
   "metadata": {},
   "outputs": [
    {
     "name": "stdout",
     "output_type": "stream",
     "text": [
      "Jitender 1 I had ordered 899 non veg meal box and I must say it was third class at this price the food quality and quantity is not expected it's wrost meal box I tried plz don't waste your hard earned money on this meal box\n",
      "Ganesh Tiwari 5 ordered barbeque in a box the food delivered was really amazing from quality to quantity everything was superb I really loved the food. And their delivery was also just fast and I am really very impressed with their hygiene and great food packaging\n",
      "Aarush Khurana 5 An amazing outlet for delivery. I ordered non veg overloaded box... Made my day honestly. Being a yummy food. they also have many varieties of fiod totally good menu. and it's really very amazing and hygienic outlet.\n",
      "Rishab Gupta 1 horrible food. especially main course. only dessert and biryani is worth eating. rest all is meant for dustbin, not your tummy.. mix veg was stale\n",
      "Dhruv 5 Raman really provided us with a good and generous service. He didn't even take the tip. Such an honest employee. Starters were amazing.Main course was 4.5/5\n"
     ]
    }
   ],
   "source": [
    "## Open and read data file as specified in the question\n",
    "## Print the required output in given format\n",
    "## Open and read data file as specified in the question\n",
    "## Print the required output in given format\n",
    "import requests,json\n",
    "\n",
    "url = \"https://developers.zomato.com/api/v2.1/search\"\n",
    "headers = {'accept' :'application/json',\n",
    "           'user-key': '627c28c07ad221c65491bbffea6f5d54'}\n",
    "params = {\n",
    "    'lat':\"28.697522\",\n",
    "    'lon':\"77.140681\",\n",
    "    'sort':'real_distance',\n",
    "    'count':'20',\n",
    "    'cuisines':'193',\n",
    "    'order':'asc'\n",
    "     }\n",
    "\n",
    "rr = requests.get(url,headers=headers,params=params)\n",
    "rr = rr.json()\n",
    "res_id = rr['restaurants'][0]['restaurant']['R']['res_id']\n",
    "# print(rr['restaurants'][1]['restaurant']['name'])\n",
    "\n",
    "# for r in rr['restaurants'][:10]:\n",
    "#     print(r['restaurant']['name'],r['restaurant']['user_rating']['aggregate_rating'],r['restaurant']['R']['res_id'],r['restaurant']['location']['locality'])\n",
    "\n",
    "    \n",
    "url = \"https://developers.zomato.com/api/v2.1/reviews\"\n",
    "headers = {'accept' :'application/json',\n",
    "           'user-key': '627c28c07ad221c65491bbffea6f5d54'}\n",
    "params = {'res_id':res_id}\n",
    "# print(res_id)\n",
    "rr = requests.get(url,headers=headers,params=params)\n",
    "rr = rr.json()\n",
    "\n",
    "for re in rr['user_reviews'][:5]:\n",
    "    print(re['review']['user']['name'],re['review']['rating'],re['review']['review_text'])\n"
   ]
  }
 ],
 "metadata": {
  "kernelspec": {
   "display_name": "Python 3",
   "language": "python",
   "name": "python3"
  },
  "language_info": {
   "codemirror_mode": {
    "name": "ipython",
    "version": 3
   },
   "file_extension": ".py",
   "mimetype": "text/x-python",
   "name": "python",
   "nbconvert_exporter": "python",
   "pygments_lexer": "ipython3",
   "version": "3.9.2"
  }
 },
 "nbformat": 4,
 "nbformat_minor": 5
}
