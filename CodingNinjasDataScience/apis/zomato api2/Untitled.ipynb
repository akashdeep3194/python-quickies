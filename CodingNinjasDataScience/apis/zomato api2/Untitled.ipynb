{
 "cells": [
  {
   "cell_type": "code",
   "execution_count": 21,
   "id": "sophisticated-elephant",
   "metadata": {},
   "outputs": [
    {
     "name": "stdout",
     "output_type": "stream",
     "text": [
      "4.30 2.30 1.00 0.10 Iris-setosa\n",
      "5.80 4.40 1.90 0.60 Iris-setosa\n",
      "5.01 3.42 1.46 0.24 Iris-setosa\n",
      "4.90 2.00 3.00 1.00 Iris-versicolor\n",
      "7.00 3.40 5.10 1.80 Iris-versicolor\n",
      "5.94 2.77 4.26 1.33 Iris-versicolor\n",
      "4.90 2.20 4.50 1.40 Iris-virginica\n",
      "7.90 3.80 6.90 2.50 Iris-virginica\n",
      "6.59 2.97 5.55 2.03 Iris-virginica\n"
     ]
    }
   ],
   "source": [
    "import numpy as np\n",
    "import pandas as pd\n",
    "\n",
    "df = pd.read_csv(\"https://archive.ics.uci.edu/ml/machine-learning-databases/iris/iris.data\", names=[\"sl\", \"sw\", \"pl\", \"pw\", \"Flower Type\"])\n",
    "\n",
    "ftype = df.iloc[:, -1].unique()\n",
    "for z in range(3): # type z=0\n",
    "    for j in range(3): # min max mean j = 0 \n",
    "        for i in range(4): # columns i 0 to 3\n",
    "            if j == 0:\n",
    "                print(\"%.2f\"%((df[df.iloc[:, -1] == ftype[z]].iloc[:, i].min())),end= \" \")\n",
    "            if j == 1:\n",
    "                print(\"%.2f\"%((df[df.iloc[:, -1] == ftype[z]].iloc[:, i].max())), end=\" \")\n",
    "            if j == 2:\n",
    "                print(\"%.2f\"%((df[df.iloc[:, -1] == ftype[z]].iloc[:, i].mean())), end=\" \")\n",
    "        print(ftype[z])\n",
    "\n",
    "# print(df[df.iloc[:, -1] == \"Iris-setosa\"].iloc[:, 1].mean())\n",
    "# print(df[df.iloc[:, -1] == \"Iris-setosa\"].iloc[:, 2].mean())\n",
    "# print(df[df.iloc[:, -1] == \"Iris-setosa\"].iloc[:, 3].mean())\n"
   ]
  },
  {
   "cell_type": "code",
   "execution_count": 4,
   "id": "bronze-hunger",
   "metadata": {},
   "outputs": [
    {
     "name": "stdout",
     "output_type": "stream",
     "text": [
      "['Iris-setosa' 'Iris-versicolor' 'Iris-virginica']\n"
     ]
    }
   ],
   "source": [
    "print(ftype)"
   ]
  },
  {
   "cell_type": "code",
   "execution_count": 14,
   "id": "equal-massage",
   "metadata": {},
   "outputs": [],
   "source": [
    "arr = df.iloc[:, -1].unique()"
   ]
  },
  {
   "cell_type": "code",
   "execution_count": 22,
   "id": "orange-fabric",
   "metadata": {},
   "outputs": [
    {
     "data": {
      "text/plain": [
       "array(['Iris-setosa', 'Iris-versicolor', 'Iris-virginica'], dtype=object)"
      ]
     },
     "execution_count": 22,
     "metadata": {},
     "output_type": "execute_result"
    }
   ],
   "source": [
    "arr"
   ]
  },
  {
   "cell_type": "code",
   "execution_count": 73,
   "id": "extreme-ensemble",
   "metadata": {},
   "outputs": [
    {
     "name": "stdout",
     "output_type": "stream",
     "text": [
      "3336 Maoists\n"
     ]
    }
   ],
   "source": [
    "# Open and read data file as specified in the question\n",
    "# Print the required output in given format\n",
    "\n",
    "\n",
    "import pandas as pd\n",
    "\n",
    "df = pd.read_csv(\"terrorismData.csv\")\n",
    "df = df[(df[\"Country\"] == \"India\") & (df['Year'] >= 2014)]\n",
    "df[\"YMD\"] = df['Year'] * 10000 + df['Month'] * 100 + df['Day']\n",
    "df = df[(df[\"YMD\"] >= 20140526)]\n",
    "\n",
    "df_grp_ctr = len(df.index)\n",
    "\n",
    "df =df[df['Group'] != \"Unknown\"]\n",
    "df_grp = df.groupby('Group')['Group'].count().idxmax()\n",
    "print(df_grp_ctr, df_grp)\n"
   ]
  },
  {
   "cell_type": "code",
   "execution_count": 65,
   "id": "wanted-chicken",
   "metadata": {},
   "outputs": [],
   "source": [
    "df = df[(df[\"YMD\"] >= 20140526)]"
   ]
  }
 ],
 "metadata": {
  "kernelspec": {
   "display_name": "Python 3",
   "language": "python",
   "name": "python3"
  },
  "language_info": {
   "codemirror_mode": {
    "name": "ipython",
    "version": 3
   },
   "file_extension": ".py",
   "mimetype": "text/x-python",
   "name": "python",
   "nbconvert_exporter": "python",
   "pygments_lexer": "ipython3",
   "version": "3.9.2"
  }
 },
 "nbformat": 4,
 "nbformat_minor": 5
}
