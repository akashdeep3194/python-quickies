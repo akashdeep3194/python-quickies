{
 "cells": [
  {
   "cell_type": "code",
   "execution_count": 182,
   "id": "viral-minnesota",
   "metadata": {},
   "outputs": [],
   "source": [
    "import pandas as pd\n",
    "import numpy as np\n",
    "import matplotlib.pyplot as plt\n",
    "import itertools"
   ]
  },
  {
   "cell_type": "code",
   "execution_count": 2,
   "id": "flying-alert",
   "metadata": {},
   "outputs": [],
   "source": [
    "df = pd.read_csv(\"zomato.csv\")"
   ]
  },
  {
   "cell_type": "code",
   "execution_count": 4,
   "id": "gentle-sussex",
   "metadata": {},
   "outputs": [
    {
     "data": {
      "text/plain": [
       "Index(['Restaurant ID', 'Restaurant Name', 'Country Code', 'City', 'Address',\n",
       "       'Locality', 'Locality Verbose', 'Longitude', 'Latitude', 'Cuisines',\n",
       "       'Average Cost for two', 'Currency', 'Has Table booking',\n",
       "       'Has Online delivery', 'Is delivering now', 'Switch to order menu',\n",
       "       'Price range', 'Aggregate rating', 'Rating color', 'Rating text',\n",
       "       'Votes'],\n",
       "      dtype='object')"
      ]
     },
     "execution_count": 4,
     "metadata": {},
     "output_type": "execute_result"
    }
   ],
   "source": [
    "df.columns"
   ]
  },
  {
   "cell_type": "code",
   "execution_count": 60,
   "id": "declared-tsunami",
   "metadata": {},
   "outputs": [],
   "source": [
    "df.loc[(df['City'] == 'New Delhi')|(df['City'] == 'Ghaziabad')|(df['City'] == 'Gurgaon')|(df['City'] == 'Noida')|(df['City'] == 'Faridabad'),'City'] = \"Delhi-NCR\""
   ]
  },
  {
   "cell_type": "code",
   "execution_count": 62,
   "id": "empty-basis",
   "metadata": {},
   "outputs": [],
   "source": [
    "df.loc[df['City'] !='Delhi-NCR','City'] = \"Rest of India\""
   ]
  },
  {
   "cell_type": "code",
   "execution_count": 72,
   "id": "accredited-lloyd",
   "metadata": {},
   "outputs": [],
   "source": [
    "df = df.loc[df[\"Country Code\"] == 1]"
   ]
  },
  {
   "cell_type": "code",
   "execution_count": 88,
   "id": "periodic-prior",
   "metadata": {},
   "outputs": [
    {
     "data": {
      "image/png": "[encoded data removed]",
      "text/plain": [
       "<Figure size 432x288 with 1 Axes>"
      ]
     },
     "metadata": {
      "needs_background": "light"
     },
     "output_type": "display_data"
    }
   ],
   "source": [
    "count_NCR = len(df[df['City'] =='Delhi-NCR'].index)\n",
    "count_ROI = len(df[df['City'] =='Rest of India'].index)\n",
    "height = [count_NCR,count_ROI]\n",
    "x = ['NCR','ROI']\n",
    "plt.xlabel('City')\n",
    "plt.ylabel('# of Restaurants')\n",
    "plt.bar(x,height)\n",
    "plt.show()"
   ]
  },
  {
   "cell_type": "code",
   "execution_count": 276,
   "id": "charged-calgary",
   "metadata": {},
   "outputs": [],
   "source": [
    "dfNCR = df[df['City'] =='Delhi-NCR']\n",
    "dfROI = df[df['City'] =='Rest of India']\n",
    "\n",
    "dfROIC = df.loc[:,'Cuisines'].str.strip().str.split(\",\")\n",
    "dfNCRC = df.loc[:,'Cuisines'].str.strip().str.split(\",\")\n",
    "\n",
    "res = pd.merge(dfROIC.to_frame(),dfROI,left_index=True, right_index=True)\n",
    "resNCR = pd.merge(dfNCRC.to_frame(),dfNCRC,left_index = True, right_index = True)\n",
    "\n",
    "res.drop(['Cuisines_y'],axis=1)\n",
    "resNCR.drop(['Cuisines_y'],axis=1)\n",
    "\n",
    "res = res.rename(columns={'Cuisines_x':'Cuisines'})\n",
    "resNCR = resNCR.rename(columns={'Cuisines_x':'Cuisines'})\n",
    "\n"
   ]
  },
  {
   "cell_type": "code",
   "execution_count": 277,
   "id": "minute-sweden",
   "metadata": {},
   "outputs": [],
   "source": [
    "res = np.unique([*itertools.chain.from_iterable(res['Cuisines'])])\n",
    "resNCR = np.unique([*itertools.chain.from_iterable(resNCR['Cuisines'])])"
   ]
  },
  {
   "cell_type": "code",
   "execution_count": 278,
   "id": "proof-guitar",
   "metadata": {},
   "outputs": [],
   "source": [
    "res = list(map(lambda x:x.strip(),res))\n",
    "resNCR = list(map(lambda x:x.strip(),resNCR))"
   ]
  },
  {
   "cell_type": "code",
   "execution_count": 279,
   "id": "animated-crest",
   "metadata": {},
   "outputs": [],
   "source": [
    "res = set(res)\n",
    "resNCR = set(resNCR)"
   ]
  },
  {
   "cell_type": "code",
   "execution_count": 281,
   "id": "knowing-scale",
   "metadata": {},
   "outputs": [
    {
     "data": {
      "text/plain": [
       "set()"
      ]
     },
     "execution_count": 281,
     "metadata": {},
     "output_type": "execute_result"
    }
   ],
   "source": [
    "# print(res)\n",
    "# print(resNCR)\n",
    "res - resNCR\n",
    "\n"
   ]
  },
  {
   "cell_type": "code",
   "execution_count": null,
   "id": "caring-travel",
   "metadata": {},
   "outputs": [],
   "source": []
  },
  {
   "cell_type": "code",
   "execution_count": 340,
   "id": "uniform-drain",
   "metadata": {},
   "outputs": [],
   "source": [
    "dfNCR = df[df['City'] =='Delhi-NCR']\n",
    "dfROI = df[df['City'] =='Rest of India']\n",
    "\n",
    "dfROIC = df.loc[:,'Cuisines'].str.strip().str.split(\",\")\n",
    "dfNCRC = df.loc[:,'Cuisines'].str.strip().str.split(\",\")\n",
    "\n",
    "res = pd.merge(dfROIC.to_frame(),dfROI,left_index=True, right_index=True)\n",
    "resNCR = pd.merge(dfNCRC.to_frame(),dfNCR,left_index = True, right_index = True)\n",
    "res.drop(['Cuisines_y'],axis=1)\n",
    "resNCR.drop(['Cuisines_y'],axis=1)\n",
    "\n",
    "res = res.rename(columns={'Cuisines_x':'Cuisines'})\n",
    "resNCR = resNCR.rename(columns={'Cuisines_x':'Cuisines'})"
   ]
  },
  {
   "cell_type": "code",
   "execution_count": null,
   "id": "designing-doctor",
   "metadata": {},
   "outputs": [],
   "source": []
  },
  {
   "cell_type": "code",
   "execution_count": 345,
   "id": "numerous-blast",
   "metadata": {},
   "outputs": [
    {
     "name": "stdout",
     "output_type": "stream",
     "text": [
      "Top 10 in Rest Of India\n",
      "\n",
      "North Indian 349\n",
      "Chinese 242\n",
      "Continental 177\n",
      "Italian 147\n",
      "Cafe 136\n",
      "Fast Food 97\n",
      "South Indian 62\n",
      "Mughlai 59\n",
      "Desserts 55\n",
      "Mexican 50\n"
     ]
    },
    {
     "data": {
      "image/png": "[encoded data removed]",
      "text/plain": [
       "<Figure size 432x288 with 1 Axes>"
      ]
     },
     "metadata": {
      "needs_background": "light"
     },
     "output_type": "display_data"
    },
    {
     "name": "stdout",
     "output_type": "stream",
     "text": [
      "\n",
      "\n",
      "Top 10 in NCR\n",
      "\n",
      "North Indian 3597\n",
      "Chinese 2448\n",
      "Fast Food 1866\n",
      "Mughlai 933\n",
      "Bakery 697\n",
      "South Indian 569\n",
      "Continental 547\n",
      "Desserts 542\n",
      "Street Food 538\n",
      "Italian 535\n"
     ]
    },
    {
     "data": {
      "image/png": "[encoded data removed]",
      "text/plain": [
       "<Figure size 432x288 with 1 Axes>"
      ]
     },
     "metadata": {
      "needs_background": "light"
     },
     "output_type": "display_data"
    }
   ],
   "source": [
    "\n",
    "\n",
    "res = res.explode('Cuisines').loc[:,'Cuisines'].str.strip().value_counts()\n",
    "resNCR = resNCR.explode('Cuisines').loc[:,'Cuisines'].str.strip().value_counts()\n",
    "print(\"Top 10 in Rest Of India\\n\")\n",
    "for ele in res.index[:10]:\n",
    "    print(ele,res[ele])\n",
    "\n",
    "plt.bar(res.index[:10],res.values[:10],color=[\"blue\"])\n",
    "plt.xticks(rotation = 90)\n",
    "plt.show()\n",
    "\n",
    "\n",
    "print()\n",
    "print(\"\\nTop 10 in NCR\\n\")\n",
    "for ele in resNCR.index[:10]:\n",
    "    print(ele,resNCR[ele])\n",
    "    \n",
    "plt.bar(resNCR.index[:10],resNCR.values[:10],color = [\"red\"])\n",
    "plt.xticks(rotation = 90)\n",
    "plt.show()"
   ]
  }
 ],
 "metadata": {
  "kernelspec": {
   "display_name": "Python 3",
   "language": "python",
   "name": "python3"
  },
  "language_info": {
   "codemirror_mode": {
    "name": "ipython",
    "version": 3
   },
   "file_extension": ".py",
   "mimetype": "text/x-python",
   "name": "python",
   "nbconvert_exporter": "python",
   "pygments_lexer": "ipython3",
   "version": "3.9.2"
  }
 },
 "nbformat": 4,
 "nbformat_minor": 5
}
