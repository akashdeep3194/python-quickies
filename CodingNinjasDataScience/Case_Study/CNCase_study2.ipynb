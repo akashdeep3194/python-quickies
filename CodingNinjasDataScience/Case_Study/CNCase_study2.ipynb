{
 "cells": [
  {
   "cell_type": "markdown",
   "id": "boxed-redhead",
   "metadata": {
    "tags": []
   },
   "source": [
    "### Imports"
   ]
  },
  {
   "cell_type": "code",
   "execution_count": 1,
   "id": "floral-manchester",
   "metadata": {},
   "outputs": [],
   "source": [
    "import numpy as np\n",
    "import pandas as pd\n",
    "import matplotlib.pyplot as plt\n",
    "\n",
    "df = pd.read_csv(\"startup_funding.csv\")\n"
   ]
  },
  {
   "cell_type": "markdown",
   "id": "fancy-command",
   "metadata": {
    "tags": []
   },
   "source": [
    "### Clean Startup Name and Investment Type"
   ]
  },
  {
   "cell_type": "code",
   "execution_count": 2,
   "id": "alien-monroe",
   "metadata": {},
   "outputs": [],
   "source": [
    "\n",
    "df.loc[(df[\"StartupName\"].str.lower() == \"ola cabs\")|(df[\"StartupName\"].str.lower() == \"olacabs\"), \"StartupName\"] = \"Ola\"\n",
    "df.loc[df[\"StartupName\"].str.lower().str.find(\"flipkart\") > -1, \"StartupName\"] = \"Flipkart\"\n",
    "df.loc[df[\"StartupName\"].str.lower().str.find(\"paytm\") > -1, \"StartupName\"] = \"Paytm\"\n",
    "df.loc[df[\"StartupName\"].str.lower().str.find(\"oyo rooms\") > -1, \"StartupName\"] = \"Oyo\"\n",
    "df.loc[df[\"StartupName\"].str.lower().str.find(\"oyorooms\") > -1, \"StartupName\"] = \"Oyo\"\n",
    "\n",
    "df.loc[df[\"InvestmentType\"] == \"PrivateEquity\", \"InvestmentType\"] = \"Private Equity\"\n",
    "df.loc[df[\"InvestmentType\"] == \"Crowd funding\", \"InvestmentType\"] = \"Crowd Funding\"\n",
    "df.loc[df[\"InvestmentType\"] == \"SeedFunding\", \"InvestmentType\"] = \"Seed Funding\"\n"
   ]
  },
  {
   "cell_type": "code",
   "execution_count": 3,
   "id": "variable-baltimore",
   "metadata": {},
   "outputs": [],
   "source": [
    "df_cf_sf = df[(df[\"InvestmentType\"] == \"Crowd Funding\") | (df[\"InvestmentType\"] == \"Seed Funding\")]"
   ]
  },
  {
   "cell_type": "markdown",
   "id": "proved-detection",
   "metadata": {},
   "source": [
    "### Only private equity fundings"
   ]
  },
  {
   "cell_type": "code",
   "execution_count": 4,
   "id": "judicial-piano",
   "metadata": {},
   "outputs": [],
   "source": [
    "df_pe = df[df[\"InvestmentType\"] == \"Private Equity\"]"
   ]
  },
  {
   "cell_type": "markdown",
   "id": "distributed-attention",
   "metadata": {},
   "source": [
    "### Return Dictionary for Cities sorted"
   ]
  },
  {
   "cell_type": "code",
   "execution_count": 5,
   "id": "precious-segment",
   "metadata": {},
   "outputs": [],
   "source": [
    "def dictionary_arr(arr):\n",
    "    dictionary = dict()\n",
    "    for cty in arr:\n",
    "        if \"/\" in cty:\n",
    "            j = cty.strip().split(\"/\")\n",
    "            for e in j:\n",
    "                if e.strip() in (\"Bangalore\", \"Mumbai\", \"Gurgaon\", \"Noida\", \"New Delhi\"):\n",
    "                    dictionary[e.strip()] = dictionary.get(e.strip(),0) + 1\n",
    "        else:\n",
    "            j = cty.strip()\n",
    "            if j in (\"Bangalore\", \"Mumbai\", \"Gurgaon\", \"Noida\", \"New Delhi\"):\n",
    "                dictionary[j] = dictionary.get(j,0) + 1\n",
    "    return sorted(dictionary.items(),key = lambda x:x[1],reverse=True)"
   ]
  },
  {
   "cell_type": "markdown",
   "id": "environmental-ethernet",
   "metadata": {},
   "source": [
    "### Return Dictionary for Investor sorted"
   ]
  },
  {
   "cell_type": "code",
   "execution_count": 6,
   "id": "secure-cancer",
   "metadata": {},
   "outputs": [],
   "source": [
    "def dictionary_arr_investors(arr):\n",
    "    dictionary = dict()\n",
    "    for cty in arr:\n",
    "        if \",\" in cty:\n",
    "            j = cty.strip().split(\",\")\n",
    "            for e in j:\n",
    "                dictionary[e.strip()] = dictionary.get(e.strip(),0) + 1\n",
    "        else:\n",
    "            j = cty.strip()\n",
    "            dictionary[j] = dictionary.get(j,0) + 1\n",
    "    return sorted(dictionary.items(),key = lambda x:x[1],reverse=True)"
   ]
  },
  {
   "cell_type": "markdown",
   "id": "later-generation",
   "metadata": {},
   "source": [
    "### Call dictionary for city and investors"
   ]
  },
  {
   "cell_type": "code",
   "execution_count": 7,
   "id": "micro-colony",
   "metadata": {},
   "outputs": [],
   "source": [
    "df.loc[df[\"CityLocation\"]==\"Delhi\",\"CityLocation\"] = \"New Delhi\"\n",
    "arr = df[df[\"CityLocation\"].notna()][\"CityLocation\"].str.title()\n",
    "arri = df[df[\"InvestorsName\"].notna()][\"InvestorsName\"]\n",
    "arri_cf_sf = df_cf_sf[df_cf_sf[\"InvestorsName\"].notna()][\"InvestorsName\"]\n",
    "arri_pe = df_pe[df_pe[\"InvestorsName\"].notna()][\"InvestorsName\"]\n",
    "\n",
    "city_dict = dictionary_arr(arr)\n",
    "\n",
    "investor_dict = dictionary_arr_investors(arri)\n",
    "\n",
    "investor_cs_sf_dict = dictionary_arr(arri_cf_sf)\n",
    "\n",
    "investor_pe_dict = dictionary_arr_investors(arri_pe)"
   ]
  },
  {
   "cell_type": "code",
   "execution_count": null,
   "id": "substantial-strengthening",
   "metadata": {},
   "outputs": [],
   "source": []
  },
  {
   "cell_type": "markdown",
   "id": "confidential-score",
   "metadata": {},
   "source": [
    "# ANSWER 1: City with most times funded:"
   ]
  },
  {
   "cell_type": "code",
   "execution_count": null,
   "id": "liquid-installation",
   "metadata": {},
   "outputs": [],
   "source": []
  },
  {
   "cell_type": "code",
   "execution_count": 8,
   "id": "powered-opera",
   "metadata": {},
   "outputs": [
    {
     "name": "stdout",
     "output_type": "stream",
     "text": [
      "Bangalore 637\n"
     ]
    }
   ],
   "source": [
    "print(city_dict[0][0],city_dict[0][1])\n"
   ]
  },
  {
   "cell_type": "code",
   "execution_count": null,
   "id": "ethical-delta",
   "metadata": {},
   "outputs": [],
   "source": []
  },
  {
   "cell_type": "markdown",
   "id": "ceramic-treatment",
   "metadata": {},
   "source": [
    "# ANSWER 2:\n",
    "### TOP 5 Investors most times funded:"
   ]
  },
  {
   "cell_type": "code",
   "execution_count": null,
   "id": "enclosed-welsh",
   "metadata": {},
   "outputs": [],
   "source": []
  },
  {
   "cell_type": "code",
   "execution_count": 9,
   "id": "adverse-boundary",
   "metadata": {},
   "outputs": [
    {
     "name": "stdout",
     "output_type": "stream",
     "text": [
      "Sequoia Capital 64\n",
      "Accel Partners 53\n",
      "Kalaari Capital 44\n",
      "SAIF Partners 41\n",
      "Indian Angel Network 40\n"
     ]
    }
   ],
   "source": [
    "for i in range(5):\n",
    "    print(investor_dict[i][0],investor_dict[i][1])\n"
   ]
  },
  {
   "cell_type": "code",
   "execution_count": 10,
   "id": "moral-genius",
   "metadata": {},
   "outputs": [],
   "source": [
    "df2 = df[\"InvestorsName\"].str.split(\",\",expand = True)\n",
    "df_cf_sf2 = df_cf_sf[\"InvestorsName\"].str.split(\",\",expand = True)\n",
    "df_pe2 = df_pe[\"InvestorsName\"].str.split(\",\",expand = True)\n"
   ]
  },
  {
   "cell_type": "code",
   "execution_count": null,
   "id": "directed-spare",
   "metadata": {},
   "outputs": [],
   "source": []
  },
  {
   "cell_type": "code",
   "execution_count": 11,
   "id": "fifteen-forge",
   "metadata": {},
   "outputs": [],
   "source": [
    "\n",
    "for i in range(10):\n",
    "    df2[i] = df2[i].str.strip()\n",
    "\n",
    "for i in range(10):\n",
    "    df_cf_sf2[i] = df_cf_sf2[i].str.strip()\n",
    "\n",
    "for i in range(7):\n",
    "    df_pe2[i] = df_pe2[i].str.strip()\n"
   ]
  },
  {
   "cell_type": "code",
   "execution_count": null,
   "id": "proud-leisure",
   "metadata": {},
   "outputs": [],
   "source": []
  },
  {
   "cell_type": "code",
   "execution_count": null,
   "id": "demanding-yorkshire",
   "metadata": {},
   "outputs": [],
   "source": []
  },
  {
   "cell_type": "code",
   "execution_count": 12,
   "id": "dangerous-sandwich",
   "metadata": {},
   "outputs": [],
   "source": [
    "ndf_pe = pd.concat([df_pe,df_pe2],axis = 1)"
   ]
  },
  {
   "cell_type": "code",
   "execution_count": null,
   "id": "spare-figure",
   "metadata": {},
   "outputs": [],
   "source": []
  },
  {
   "cell_type": "code",
   "execution_count": null,
   "id": "magnetic-gardening",
   "metadata": {},
   "outputs": [],
   "source": []
  },
  {
   "cell_type": "code",
   "execution_count": 13,
   "id": "behavioral-render",
   "metadata": {},
   "outputs": [],
   "source": [
    "fdf_pe = pd.melt(ndf_pe,id_vars=[\"StartupName\"],value_vars=[0,1,2,3,4,5,6])"
   ]
  },
  {
   "cell_type": "code",
   "execution_count": 14,
   "id": "collaborative-imagination",
   "metadata": {},
   "outputs": [],
   "source": [
    "fdf_pe = fdf_pe[fdf_pe[\"value\"].str.lower().str.find(\"undisclosed investors\")==-1]"
   ]
  },
  {
   "cell_type": "code",
   "execution_count": 15,
   "id": "later-alpha",
   "metadata": {},
   "outputs": [],
   "source": [
    "fdf_pe = fdf_pe.drop_duplicates(subset=[\"value\",\"StartupName\"])"
   ]
  },
  {
   "cell_type": "code",
   "execution_count": 16,
   "id": "automated-dodge",
   "metadata": {},
   "outputs": [],
   "source": [
    "fdf_pe = fdf_pe.dropna()"
   ]
  },
  {
   "cell_type": "code",
   "execution_count": null,
   "id": "floral-picking",
   "metadata": {},
   "outputs": [],
   "source": []
  },
  {
   "cell_type": "markdown",
   "id": "discrete-fitting",
   "metadata": {},
   "source": [
    "# ANSWER 5:\n",
    "### Top 5 investors from private equity most times funded unique startups"
   ]
  },
  {
   "cell_type": "code",
   "execution_count": null,
   "id": "automotive-chambers",
   "metadata": {},
   "outputs": [],
   "source": []
  },
  {
   "cell_type": "code",
   "execution_count": 17,
   "id": "referenced-vermont",
   "metadata": {},
   "outputs": [
    {
     "name": "stdout",
     "output_type": "stream",
     "text": [
      "Sequoia Capital 45\n",
      "Accel Partners 43\n",
      "Kalaari Capital 35\n",
      "Blume Ventures 27\n",
      "SAIF Partners 24\n"
     ]
    }
   ],
   "source": [
    "fdf_pe = fdf_pe[fdf_pe[\"value\"] != \"\"]\n",
    "llfdf_pe = fdf_pe[\"value\"].value_counts()[:5]\n",
    "for ele_pe in llfdf_pe.index:\n",
    "    print(ele_pe,llfdf_pe[ele_pe])"
   ]
  },
  {
   "cell_type": "code",
   "execution_count": null,
   "id": "neural-festival",
   "metadata": {},
   "outputs": [],
   "source": []
  },
  {
   "cell_type": "code",
   "execution_count": 18,
   "id": "following-assault",
   "metadata": {},
   "outputs": [],
   "source": [
    "ndf_cf_sf = pd.concat([df_cf_sf,df_cf_sf2],axis = 1)"
   ]
  },
  {
   "cell_type": "code",
   "execution_count": 19,
   "id": "controlled-prison",
   "metadata": {},
   "outputs": [],
   "source": [
    "fdf_cf_sf = pd.melt(ndf_cf_sf,id_vars=[\"StartupName\"],value_vars=[0,1,2,3,4,5,6,7,8,9])"
   ]
  },
  {
   "cell_type": "code",
   "execution_count": 20,
   "id": "chemical-seating",
   "metadata": {},
   "outputs": [],
   "source": [
    "fdf_cf_sf = fdf_cf_sf[fdf_cf_sf[\"value\"].str.lower().str.find(\"undisclosed investors\")==-1]"
   ]
  },
  {
   "cell_type": "code",
   "execution_count": 21,
   "id": "brown-longer",
   "metadata": {},
   "outputs": [],
   "source": [
    "fdf_cf_sf = fdf_cf_sf.drop_duplicates(subset=[\"value\",\"StartupName\"])"
   ]
  },
  {
   "cell_type": "code",
   "execution_count": 22,
   "id": "broken-disco",
   "metadata": {},
   "outputs": [],
   "source": [
    "fdf_cf_sf = fdf_cf_sf.dropna()"
   ]
  },
  {
   "cell_type": "markdown",
   "id": "excellent-cisco",
   "metadata": {},
   "source": [
    "# ANSWER 4:\n",
    "### Top 5 investor most times funded unique startups in Seed and Crowd funding"
   ]
  },
  {
   "cell_type": "code",
   "execution_count": 23,
   "id": "swiss-perspective",
   "metadata": {},
   "outputs": [
    {
     "name": "stdout",
     "output_type": "stream",
     "text": [
      "Indian Angel Network 33\n",
      "Rajan Anandan 23\n",
      "Anupam Mittal 16\n",
      "LetsVenture 16\n",
      "Group of Angel Investors 14\n"
     ]
    }
   ],
   "source": [
    "fdf_cf_sf = fdf_cf_sf[fdf_cf_sf[\"value\"] != \"\"]\n",
    "llfdf_cf_sf = fdf_cf_sf[\"value\"].value_counts()[:5]\n",
    "for ele_cf_sf in llfdf_cf_sf.index:\n",
    "    print(ele_cf_sf,llfdf_cf_sf[ele_cf_sf])"
   ]
  },
  {
   "cell_type": "code",
   "execution_count": null,
   "id": "civic-setting",
   "metadata": {},
   "outputs": [],
   "source": []
  },
  {
   "cell_type": "code",
   "execution_count": 24,
   "id": "union-establishment",
   "metadata": {},
   "outputs": [],
   "source": [
    "ndf = pd.concat([df,df2],axis=1)"
   ]
  },
  {
   "cell_type": "code",
   "execution_count": 25,
   "id": "democratic-simpson",
   "metadata": {},
   "outputs": [],
   "source": [
    "fdf = pd.melt(ndf,id_vars=[\"StartupName\"],value_vars=[0,1,2,3,4,5,6,7,8,9])"
   ]
  },
  {
   "cell_type": "code",
   "execution_count": 26,
   "id": "aggressive-crazy",
   "metadata": {},
   "outputs": [],
   "source": [
    "fdf = fdf[fdf[\"value\"].str.lower().str.find(\"undisclosed investors\")==-1]"
   ]
  },
  {
   "cell_type": "code",
   "execution_count": 27,
   "id": "environmental-constraint",
   "metadata": {},
   "outputs": [],
   "source": [
    "fdf = fdf.drop_duplicates(subset=[\"value\",\"StartupName\"])"
   ]
  },
  {
   "cell_type": "code",
   "execution_count": 28,
   "id": "outer-register",
   "metadata": {},
   "outputs": [],
   "source": [
    "fdf = fdf.dropna()"
   ]
  },
  {
   "cell_type": "code",
   "execution_count": null,
   "id": "convinced-perspective",
   "metadata": {},
   "outputs": [],
   "source": []
  },
  {
   "cell_type": "markdown",
   "id": "corporate-cargo",
   "metadata": {},
   "source": [
    "# ANSWER 3:\n",
    "### Top 5 Investors invested in unique startups overall round"
   ]
  },
  {
   "cell_type": "code",
   "execution_count": 29,
   "id": "mathematical-guyana",
   "metadata": {},
   "outputs": [
    {
     "name": "stdout",
     "output_type": "stream",
     "text": [
      "Sequoia Capital 48\n",
      "Accel Partners 47\n",
      "Kalaari Capital 41\n",
      "Indian Angel Network 40\n",
      "Blume Ventures 36\n"
     ]
    }
   ],
   "source": [
    "fdf = fdf[fdf[\"value\"] != \"\"]\n",
    "ll = fdf[\"value\"].value_counts()[:5]\n",
    "for el in ll.index:\n",
    "    print(el,ll[el])"
   ]
  }
 ],
 "metadata": {
  "kernelspec": {
   "display_name": "Python 3",
   "language": "python",
   "name": "python3"
  },
  "language_info": {
   "codemirror_mode": {
    "name": "ipython",
    "version": 3
   },
   "file_extension": ".py",
   "mimetype": "text/x-python",
   "name": "python",
   "nbconvert_exporter": "python",
   "pygments_lexer": "ipython3",
   "version": "3.9.2"
  }
 },
 "nbformat": 4,
 "nbformat_minor": 5
}
